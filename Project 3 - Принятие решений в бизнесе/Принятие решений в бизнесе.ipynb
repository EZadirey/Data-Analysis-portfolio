{
 "cells": [
  {
   "cell_type": "markdown",
   "metadata": {},
   "source": [
    "# Принятие решений в бизнесе, на примере интернет-магазина "
   ]
  },
  {
   "cell_type": "markdown",
   "metadata": {},
   "source": [
    "## Описание проекта"
   ]
  },
  {
   "cell_type": "markdown",
   "metadata": {},
   "source": [
    "Мы работаем в крупном интернет-магазине. И на данный момент с помощью отдела маркетинга мы подготовили список гипотез для увеличения выручки.\n",
    "\n",
    "Мы приоритизируем гипотезы, запустим A/B тест и проанализируем результаты."
   ]
  },
  {
   "cell_type": "markdown",
   "metadata": {},
   "source": [
    "### Описание данных"
   ]
  },
  {
   "cell_type": "markdown",
   "metadata": {},
   "source": [
    "#### Данные для первой части\n",
    "Файл /datasets/hypothesis.csv. \n",
    "Файл hypothesis содержит:\n",
    "- Hypothesis — краткое описание гипотезы;\n",
    "- Reach — охват пользователей по 10-балльной шкале;\n",
    "- Impact — влияние на пользователей по 10-балльной шкале;\n",
    "- Confidence — уверенность в гипотезе по 10-балльной шкале;\n",
    "- Efforts — затраты ресурсов на проверку гипотезы по 10-балльной шкале. Чем больше значение Efforts, тем дороже проверка гипотезы."
   ]
  },
  {
   "cell_type": "markdown",
   "metadata": {},
   "source": [
    "#### Данные для второй части\n",
    "Файл /datasets/orders.csv. \n",
    "Файл orders содержит:\n",
    "    \n",
    "- transactionId — идентификатор заказа;\n",
    "- visitorId — идентификатор пользователя, совершившего заказ;\n",
    "- date — дата, когда был совершён заказ;\n",
    "- revenue — выручка заказа;\n",
    "- group — группа A/B-теста, в которую попал заказ.\n",
    "\n",
    "Файл /datasets/visitors.csv. \n",
    "Файл visitors содержит:\n",
    "    \n",
    "- date — дата;\n",
    "- group — группа A/B-теста;\n",
    "- visitors — количество пользователей в указанную дату в указанной группе A/B-теста"
   ]
  },
  {
   "cell_type": "markdown",
   "metadata": {},
   "source": [
    "### Подготовка данных к анализу"
   ]
  },
  {
   "cell_type": "markdown",
   "metadata": {},
   "source": [
    "#### Импорт библиотек"
   ]
  },
  {
   "cell_type": "code",
   "execution_count": 3,
   "metadata": {},
   "outputs": [],
   "source": [
    "import pandas as pd\n",
    "import numpy as np\n",
    "import requests\n",
    "import math as mth\n",
    "import matplotlib.pyplot as plt\n",
    "from datetime import datetime, timedelta\n",
    "import seaborn as sns\n",
    "from pymystem3 import Mystem\n",
    "from collections import Counter\n",
    "from scipy import stats as st\n",
    "import datetime as dt\n",
    "import scipy.stats as stats\n",
    "\n",
    "import plotly.express as px\n",
    "from plotly import graph_objects as go"
   ]
  },
  {
   "cell_type": "markdown",
   "metadata": {},
   "source": [
    "#### Чтение и подготовка данных"
   ]
  },
  {
   "cell_type": "code",
   "execution_count": 4,
   "metadata": {},
   "outputs": [],
   "source": [
    "hypothesis = pd.read_csv('/datasets/hypothesis.csv')\n",
    "orders = pd.read_csv('/datasets/orders.csv', sep = ',')\n",
    "visitors = pd.read_csv('/datasets/visitors.csv',sep = ',')"
   ]
  },
  {
   "cell_type": "code",
   "execution_count": 5,
   "metadata": {},
   "outputs": [
    {
     "data": {
      "text/html": [
       "<div>\n",
       "<style scoped>\n",
       "    .dataframe tbody tr th:only-of-type {\n",
       "        vertical-align: middle;\n",
       "    }\n",
       "\n",
       "    .dataframe tbody tr th {\n",
       "        vertical-align: top;\n",
       "    }\n",
       "\n",
       "    .dataframe thead th {\n",
       "        text-align: right;\n",
       "    }\n",
       "</style>\n",
       "<table border=\"1\" class=\"dataframe\">\n",
       "  <thead>\n",
       "    <tr style=\"text-align: right;\">\n",
       "      <th></th>\n",
       "      <th>Hypothesis</th>\n",
       "      <th>Reach</th>\n",
       "      <th>Impact</th>\n",
       "      <th>Confidence</th>\n",
       "      <th>Efforts</th>\n",
       "    </tr>\n",
       "  </thead>\n",
       "  <tbody>\n",
       "    <tr>\n",
       "      <th>0</th>\n",
       "      <td>Добавить два новых канала привлечения трафика,...</td>\n",
       "      <td>3</td>\n",
       "      <td>10</td>\n",
       "      <td>8</td>\n",
       "      <td>6</td>\n",
       "    </tr>\n",
       "    <tr>\n",
       "      <th>1</th>\n",
       "      <td>Запустить собственную службу доставки, что сок...</td>\n",
       "      <td>2</td>\n",
       "      <td>5</td>\n",
       "      <td>4</td>\n",
       "      <td>10</td>\n",
       "    </tr>\n",
       "    <tr>\n",
       "      <th>2</th>\n",
       "      <td>Добавить блоки рекомендаций товаров на сайт ин...</td>\n",
       "      <td>8</td>\n",
       "      <td>3</td>\n",
       "      <td>7</td>\n",
       "      <td>3</td>\n",
       "    </tr>\n",
       "    <tr>\n",
       "      <th>3</th>\n",
       "      <td>Изменить структура категорий, что увеличит кон...</td>\n",
       "      <td>8</td>\n",
       "      <td>3</td>\n",
       "      <td>3</td>\n",
       "      <td>8</td>\n",
       "    </tr>\n",
       "    <tr>\n",
       "      <th>4</th>\n",
       "      <td>Изменить цвет фона главной страницы, чтобы уве...</td>\n",
       "      <td>3</td>\n",
       "      <td>1</td>\n",
       "      <td>1</td>\n",
       "      <td>1</td>\n",
       "    </tr>\n",
       "    <tr>\n",
       "      <th>5</th>\n",
       "      <td>Добавить страницу отзывов клиентов о магазине,...</td>\n",
       "      <td>3</td>\n",
       "      <td>2</td>\n",
       "      <td>2</td>\n",
       "      <td>3</td>\n",
       "    </tr>\n",
       "    <tr>\n",
       "      <th>6</th>\n",
       "      <td>Показать на главной странице баннеры с актуаль...</td>\n",
       "      <td>5</td>\n",
       "      <td>3</td>\n",
       "      <td>8</td>\n",
       "      <td>3</td>\n",
       "    </tr>\n",
       "    <tr>\n",
       "      <th>7</th>\n",
       "      <td>Добавить форму подписки на все основные страни...</td>\n",
       "      <td>10</td>\n",
       "      <td>7</td>\n",
       "      <td>8</td>\n",
       "      <td>5</td>\n",
       "    </tr>\n",
       "    <tr>\n",
       "      <th>8</th>\n",
       "      <td>Запустить акцию, дающую скидку на товар в день...</td>\n",
       "      <td>1</td>\n",
       "      <td>9</td>\n",
       "      <td>9</td>\n",
       "      <td>5</td>\n",
       "    </tr>\n",
       "  </tbody>\n",
       "</table>\n",
       "</div>"
      ],
      "text/plain": [
       "                                          Hypothesis  Reach  Impact  \\\n",
       "0  Добавить два новых канала привлечения трафика,...      3      10   \n",
       "1  Запустить собственную службу доставки, что сок...      2       5   \n",
       "2  Добавить блоки рекомендаций товаров на сайт ин...      8       3   \n",
       "3  Изменить структура категорий, что увеличит кон...      8       3   \n",
       "4  Изменить цвет фона главной страницы, чтобы уве...      3       1   \n",
       "5  Добавить страницу отзывов клиентов о магазине,...      3       2   \n",
       "6  Показать на главной странице баннеры с актуаль...      5       3   \n",
       "7  Добавить форму подписки на все основные страни...     10       7   \n",
       "8  Запустить акцию, дающую скидку на товар в день...      1       9   \n",
       "\n",
       "   Confidence  Efforts  \n",
       "0           8        6  \n",
       "1           4       10  \n",
       "2           7        3  \n",
       "3           3        8  \n",
       "4           1        1  \n",
       "5           2        3  \n",
       "6           8        3  \n",
       "7           8        5  \n",
       "8           9        5  "
      ]
     },
     "metadata": {},
     "output_type": "display_data"
    }
   ],
   "source": [
    "display(hypothesis)"
   ]
  },
  {
   "cell_type": "code",
   "execution_count": 6,
   "metadata": {},
   "outputs": [
    {
     "data": {
      "text/html": [
       "<div>\n",
       "<style scoped>\n",
       "    .dataframe tbody tr th:only-of-type {\n",
       "        vertical-align: middle;\n",
       "    }\n",
       "\n",
       "    .dataframe tbody tr th {\n",
       "        vertical-align: top;\n",
       "    }\n",
       "\n",
       "    .dataframe thead th {\n",
       "        text-align: right;\n",
       "    }\n",
       "</style>\n",
       "<table border=\"1\" class=\"dataframe\">\n",
       "  <thead>\n",
       "    <tr style=\"text-align: right;\">\n",
       "      <th></th>\n",
       "      <th>transactionId</th>\n",
       "      <th>visitorId</th>\n",
       "      <th>date</th>\n",
       "      <th>revenue</th>\n",
       "      <th>group</th>\n",
       "    </tr>\n",
       "  </thead>\n",
       "  <tbody>\n",
       "    <tr>\n",
       "      <th>0</th>\n",
       "      <td>3667963787</td>\n",
       "      <td>3312258926</td>\n",
       "      <td>2019-08-15</td>\n",
       "      <td>1650</td>\n",
       "      <td>B</td>\n",
       "    </tr>\n",
       "    <tr>\n",
       "      <th>1</th>\n",
       "      <td>2804400009</td>\n",
       "      <td>3642806036</td>\n",
       "      <td>2019-08-15</td>\n",
       "      <td>730</td>\n",
       "      <td>B</td>\n",
       "    </tr>\n",
       "    <tr>\n",
       "      <th>2</th>\n",
       "      <td>2961555356</td>\n",
       "      <td>4069496402</td>\n",
       "      <td>2019-08-15</td>\n",
       "      <td>400</td>\n",
       "      <td>A</td>\n",
       "    </tr>\n",
       "    <tr>\n",
       "      <th>3</th>\n",
       "      <td>3797467345</td>\n",
       "      <td>1196621759</td>\n",
       "      <td>2019-08-15</td>\n",
       "      <td>9759</td>\n",
       "      <td>B</td>\n",
       "    </tr>\n",
       "    <tr>\n",
       "      <th>4</th>\n",
       "      <td>2282983706</td>\n",
       "      <td>2322279887</td>\n",
       "      <td>2019-08-15</td>\n",
       "      <td>2308</td>\n",
       "      <td>B</td>\n",
       "    </tr>\n",
       "    <tr>\n",
       "      <th>...</th>\n",
       "      <td>...</td>\n",
       "      <td>...</td>\n",
       "      <td>...</td>\n",
       "      <td>...</td>\n",
       "      <td>...</td>\n",
       "    </tr>\n",
       "    <tr>\n",
       "      <th>1192</th>\n",
       "      <td>2662137336</td>\n",
       "      <td>3733762160</td>\n",
       "      <td>2019-08-14</td>\n",
       "      <td>6490</td>\n",
       "      <td>B</td>\n",
       "    </tr>\n",
       "    <tr>\n",
       "      <th>1193</th>\n",
       "      <td>2203539145</td>\n",
       "      <td>370388673</td>\n",
       "      <td>2019-08-14</td>\n",
       "      <td>3190</td>\n",
       "      <td>A</td>\n",
       "    </tr>\n",
       "    <tr>\n",
       "      <th>1194</th>\n",
       "      <td>1807773912</td>\n",
       "      <td>573423106</td>\n",
       "      <td>2019-08-14</td>\n",
       "      <td>10550</td>\n",
       "      <td>A</td>\n",
       "    </tr>\n",
       "    <tr>\n",
       "      <th>1195</th>\n",
       "      <td>1947021204</td>\n",
       "      <td>1614305549</td>\n",
       "      <td>2019-08-14</td>\n",
       "      <td>100</td>\n",
       "      <td>A</td>\n",
       "    </tr>\n",
       "    <tr>\n",
       "      <th>1196</th>\n",
       "      <td>3936777065</td>\n",
       "      <td>2108080724</td>\n",
       "      <td>2019-08-15</td>\n",
       "      <td>202740</td>\n",
       "      <td>B</td>\n",
       "    </tr>\n",
       "  </tbody>\n",
       "</table>\n",
       "<p>1197 rows × 5 columns</p>\n",
       "</div>"
      ],
      "text/plain": [
       "      transactionId   visitorId        date  revenue group\n",
       "0        3667963787  3312258926  2019-08-15     1650     B\n",
       "1        2804400009  3642806036  2019-08-15      730     B\n",
       "2        2961555356  4069496402  2019-08-15      400     A\n",
       "3        3797467345  1196621759  2019-08-15     9759     B\n",
       "4        2282983706  2322279887  2019-08-15     2308     B\n",
       "...             ...         ...         ...      ...   ...\n",
       "1192     2662137336  3733762160  2019-08-14     6490     B\n",
       "1193     2203539145   370388673  2019-08-14     3190     A\n",
       "1194     1807773912   573423106  2019-08-14    10550     A\n",
       "1195     1947021204  1614305549  2019-08-14      100     A\n",
       "1196     3936777065  2108080724  2019-08-15   202740     B\n",
       "\n",
       "[1197 rows x 5 columns]"
      ]
     },
     "metadata": {},
     "output_type": "display_data"
    }
   ],
   "source": [
    "display(orders)"
   ]
  },
  {
   "cell_type": "code",
   "execution_count": 7,
   "metadata": {},
   "outputs": [
    {
     "data": {
      "text/html": [
       "<div>\n",
       "<style scoped>\n",
       "    .dataframe tbody tr th:only-of-type {\n",
       "        vertical-align: middle;\n",
       "    }\n",
       "\n",
       "    .dataframe tbody tr th {\n",
       "        vertical-align: top;\n",
       "    }\n",
       "\n",
       "    .dataframe thead th {\n",
       "        text-align: right;\n",
       "    }\n",
       "</style>\n",
       "<table border=\"1\" class=\"dataframe\">\n",
       "  <thead>\n",
       "    <tr style=\"text-align: right;\">\n",
       "      <th></th>\n",
       "      <th>date</th>\n",
       "      <th>group</th>\n",
       "      <th>visitors</th>\n",
       "    </tr>\n",
       "  </thead>\n",
       "  <tbody>\n",
       "    <tr>\n",
       "      <th>0</th>\n",
       "      <td>2019-08-01</td>\n",
       "      <td>A</td>\n",
       "      <td>719</td>\n",
       "    </tr>\n",
       "    <tr>\n",
       "      <th>1</th>\n",
       "      <td>2019-08-02</td>\n",
       "      <td>A</td>\n",
       "      <td>619</td>\n",
       "    </tr>\n",
       "    <tr>\n",
       "      <th>2</th>\n",
       "      <td>2019-08-03</td>\n",
       "      <td>A</td>\n",
       "      <td>507</td>\n",
       "    </tr>\n",
       "    <tr>\n",
       "      <th>3</th>\n",
       "      <td>2019-08-04</td>\n",
       "      <td>A</td>\n",
       "      <td>717</td>\n",
       "    </tr>\n",
       "    <tr>\n",
       "      <th>4</th>\n",
       "      <td>2019-08-05</td>\n",
       "      <td>A</td>\n",
       "      <td>756</td>\n",
       "    </tr>\n",
       "    <tr>\n",
       "      <th>...</th>\n",
       "      <td>...</td>\n",
       "      <td>...</td>\n",
       "      <td>...</td>\n",
       "    </tr>\n",
       "    <tr>\n",
       "      <th>57</th>\n",
       "      <td>2019-08-27</td>\n",
       "      <td>B</td>\n",
       "      <td>720</td>\n",
       "    </tr>\n",
       "    <tr>\n",
       "      <th>58</th>\n",
       "      <td>2019-08-28</td>\n",
       "      <td>B</td>\n",
       "      <td>654</td>\n",
       "    </tr>\n",
       "    <tr>\n",
       "      <th>59</th>\n",
       "      <td>2019-08-29</td>\n",
       "      <td>B</td>\n",
       "      <td>531</td>\n",
       "    </tr>\n",
       "    <tr>\n",
       "      <th>60</th>\n",
       "      <td>2019-08-30</td>\n",
       "      <td>B</td>\n",
       "      <td>490</td>\n",
       "    </tr>\n",
       "    <tr>\n",
       "      <th>61</th>\n",
       "      <td>2019-08-31</td>\n",
       "      <td>B</td>\n",
       "      <td>718</td>\n",
       "    </tr>\n",
       "  </tbody>\n",
       "</table>\n",
       "<p>62 rows × 3 columns</p>\n",
       "</div>"
      ],
      "text/plain": [
       "          date group  visitors\n",
       "0   2019-08-01     A       719\n",
       "1   2019-08-02     A       619\n",
       "2   2019-08-03     A       507\n",
       "3   2019-08-04     A       717\n",
       "4   2019-08-05     A       756\n",
       "..         ...   ...       ...\n",
       "57  2019-08-27     B       720\n",
       "58  2019-08-28     B       654\n",
       "59  2019-08-29     B       531\n",
       "60  2019-08-30     B       490\n",
       "61  2019-08-31     B       718\n",
       "\n",
       "[62 rows x 3 columns]"
      ]
     },
     "metadata": {},
     "output_type": "display_data"
    }
   ],
   "source": [
    "display(visitors)"
   ]
  },
  {
   "cell_type": "code",
   "execution_count": 8,
   "metadata": {},
   "outputs": [],
   "source": [
    "#приведем к нижнему регистру названия столбцов у hypothesis:\n",
    "hypothesis.columns = map(str.lower, hypothesis.columns)"
   ]
  },
  {
   "cell_type": "code",
   "execution_count": 9,
   "metadata": {},
   "outputs": [
    {
     "data": {
      "text/html": [
       "<div>\n",
       "<style scoped>\n",
       "    .dataframe tbody tr th:only-of-type {\n",
       "        vertical-align: middle;\n",
       "    }\n",
       "\n",
       "    .dataframe tbody tr th {\n",
       "        vertical-align: top;\n",
       "    }\n",
       "\n",
       "    .dataframe thead th {\n",
       "        text-align: right;\n",
       "    }\n",
       "</style>\n",
       "<table border=\"1\" class=\"dataframe\">\n",
       "  <thead>\n",
       "    <tr style=\"text-align: right;\">\n",
       "      <th></th>\n",
       "      <th>hypothesis</th>\n",
       "      <th>reach</th>\n",
       "      <th>impact</th>\n",
       "      <th>confidence</th>\n",
       "      <th>efforts</th>\n",
       "    </tr>\n",
       "  </thead>\n",
       "  <tbody>\n",
       "    <tr>\n",
       "      <th>0</th>\n",
       "      <td>Добавить два новых канала привлечения трафика,...</td>\n",
       "      <td>3</td>\n",
       "      <td>10</td>\n",
       "      <td>8</td>\n",
       "      <td>6</td>\n",
       "    </tr>\n",
       "    <tr>\n",
       "      <th>1</th>\n",
       "      <td>Запустить собственную службу доставки, что сок...</td>\n",
       "      <td>2</td>\n",
       "      <td>5</td>\n",
       "      <td>4</td>\n",
       "      <td>10</td>\n",
       "    </tr>\n",
       "    <tr>\n",
       "      <th>2</th>\n",
       "      <td>Добавить блоки рекомендаций товаров на сайт ин...</td>\n",
       "      <td>8</td>\n",
       "      <td>3</td>\n",
       "      <td>7</td>\n",
       "      <td>3</td>\n",
       "    </tr>\n",
       "    <tr>\n",
       "      <th>3</th>\n",
       "      <td>Изменить структура категорий, что увеличит кон...</td>\n",
       "      <td>8</td>\n",
       "      <td>3</td>\n",
       "      <td>3</td>\n",
       "      <td>8</td>\n",
       "    </tr>\n",
       "    <tr>\n",
       "      <th>4</th>\n",
       "      <td>Изменить цвет фона главной страницы, чтобы уве...</td>\n",
       "      <td>3</td>\n",
       "      <td>1</td>\n",
       "      <td>1</td>\n",
       "      <td>1</td>\n",
       "    </tr>\n",
       "    <tr>\n",
       "      <th>5</th>\n",
       "      <td>Добавить страницу отзывов клиентов о магазине,...</td>\n",
       "      <td>3</td>\n",
       "      <td>2</td>\n",
       "      <td>2</td>\n",
       "      <td>3</td>\n",
       "    </tr>\n",
       "    <tr>\n",
       "      <th>6</th>\n",
       "      <td>Показать на главной странице баннеры с актуаль...</td>\n",
       "      <td>5</td>\n",
       "      <td>3</td>\n",
       "      <td>8</td>\n",
       "      <td>3</td>\n",
       "    </tr>\n",
       "    <tr>\n",
       "      <th>7</th>\n",
       "      <td>Добавить форму подписки на все основные страни...</td>\n",
       "      <td>10</td>\n",
       "      <td>7</td>\n",
       "      <td>8</td>\n",
       "      <td>5</td>\n",
       "    </tr>\n",
       "    <tr>\n",
       "      <th>8</th>\n",
       "      <td>Запустить акцию, дающую скидку на товар в день...</td>\n",
       "      <td>1</td>\n",
       "      <td>9</td>\n",
       "      <td>9</td>\n",
       "      <td>5</td>\n",
       "    </tr>\n",
       "  </tbody>\n",
       "</table>\n",
       "</div>"
      ],
      "text/plain": [
       "                                          hypothesis  reach  impact  \\\n",
       "0  Добавить два новых канала привлечения трафика,...      3      10   \n",
       "1  Запустить собственную службу доставки, что сок...      2       5   \n",
       "2  Добавить блоки рекомендаций товаров на сайт ин...      8       3   \n",
       "3  Изменить структура категорий, что увеличит кон...      8       3   \n",
       "4  Изменить цвет фона главной страницы, чтобы уве...      3       1   \n",
       "5  Добавить страницу отзывов клиентов о магазине,...      3       2   \n",
       "6  Показать на главной странице баннеры с актуаль...      5       3   \n",
       "7  Добавить форму подписки на все основные страни...     10       7   \n",
       "8  Запустить акцию, дающую скидку на товар в день...      1       9   \n",
       "\n",
       "   confidence  efforts  \n",
       "0           8        6  \n",
       "1           4       10  \n",
       "2           7        3  \n",
       "3           3        8  \n",
       "4           1        1  \n",
       "5           2        3  \n",
       "6           8        3  \n",
       "7           8        5  \n",
       "8           9        5  "
      ]
     },
     "execution_count": 9,
     "metadata": {},
     "output_type": "execute_result"
    }
   ],
   "source": [
    "#проверка\n",
    "hypothesis"
   ]
  },
  {
   "cell_type": "code",
   "execution_count": 10,
   "metadata": {},
   "outputs": [
    {
     "data": {
      "text/plain": [
       "hypothesis    0\n",
       "reach         0\n",
       "impact        0\n",
       "confidence    0\n",
       "efforts       0\n",
       "dtype: int64"
      ]
     },
     "execution_count": 10,
     "metadata": {},
     "output_type": "execute_result"
    }
   ],
   "source": [
    "#проверка на пропуски:\n",
    "hypothesis.isna().sum()"
   ]
  },
  {
   "cell_type": "code",
   "execution_count": 11,
   "metadata": {},
   "outputs": [
    {
     "data": {
      "text/html": [
       "<div>\n",
       "<style scoped>\n",
       "    .dataframe tbody tr th:only-of-type {\n",
       "        vertical-align: middle;\n",
       "    }\n",
       "\n",
       "    .dataframe tbody tr th {\n",
       "        vertical-align: top;\n",
       "    }\n",
       "\n",
       "    .dataframe thead th {\n",
       "        text-align: right;\n",
       "    }\n",
       "</style>\n",
       "<table border=\"1\" class=\"dataframe\">\n",
       "  <thead>\n",
       "    <tr style=\"text-align: right;\">\n",
       "      <th></th>\n",
       "      <th>transactionId</th>\n",
       "      <th>visitorId</th>\n",
       "      <th>date</th>\n",
       "      <th>revenue</th>\n",
       "      <th>group</th>\n",
       "    </tr>\n",
       "  </thead>\n",
       "  <tbody>\n",
       "    <tr>\n",
       "      <th>0</th>\n",
       "      <td>3667963787</td>\n",
       "      <td>3312258926</td>\n",
       "      <td>2019-08-15</td>\n",
       "      <td>1650</td>\n",
       "      <td>B</td>\n",
       "    </tr>\n",
       "    <tr>\n",
       "      <th>1</th>\n",
       "      <td>2804400009</td>\n",
       "      <td>3642806036</td>\n",
       "      <td>2019-08-15</td>\n",
       "      <td>730</td>\n",
       "      <td>B</td>\n",
       "    </tr>\n",
       "    <tr>\n",
       "      <th>2</th>\n",
       "      <td>2961555356</td>\n",
       "      <td>4069496402</td>\n",
       "      <td>2019-08-15</td>\n",
       "      <td>400</td>\n",
       "      <td>A</td>\n",
       "    </tr>\n",
       "    <tr>\n",
       "      <th>3</th>\n",
       "      <td>3797467345</td>\n",
       "      <td>1196621759</td>\n",
       "      <td>2019-08-15</td>\n",
       "      <td>9759</td>\n",
       "      <td>B</td>\n",
       "    </tr>\n",
       "    <tr>\n",
       "      <th>4</th>\n",
       "      <td>2282983706</td>\n",
       "      <td>2322279887</td>\n",
       "      <td>2019-08-15</td>\n",
       "      <td>2308</td>\n",
       "      <td>B</td>\n",
       "    </tr>\n",
       "    <tr>\n",
       "      <th>...</th>\n",
       "      <td>...</td>\n",
       "      <td>...</td>\n",
       "      <td>...</td>\n",
       "      <td>...</td>\n",
       "      <td>...</td>\n",
       "    </tr>\n",
       "    <tr>\n",
       "      <th>1192</th>\n",
       "      <td>2662137336</td>\n",
       "      <td>3733762160</td>\n",
       "      <td>2019-08-14</td>\n",
       "      <td>6490</td>\n",
       "      <td>B</td>\n",
       "    </tr>\n",
       "    <tr>\n",
       "      <th>1193</th>\n",
       "      <td>2203539145</td>\n",
       "      <td>370388673</td>\n",
       "      <td>2019-08-14</td>\n",
       "      <td>3190</td>\n",
       "      <td>A</td>\n",
       "    </tr>\n",
       "    <tr>\n",
       "      <th>1194</th>\n",
       "      <td>1807773912</td>\n",
       "      <td>573423106</td>\n",
       "      <td>2019-08-14</td>\n",
       "      <td>10550</td>\n",
       "      <td>A</td>\n",
       "    </tr>\n",
       "    <tr>\n",
       "      <th>1195</th>\n",
       "      <td>1947021204</td>\n",
       "      <td>1614305549</td>\n",
       "      <td>2019-08-14</td>\n",
       "      <td>100</td>\n",
       "      <td>A</td>\n",
       "    </tr>\n",
       "    <tr>\n",
       "      <th>1196</th>\n",
       "      <td>3936777065</td>\n",
       "      <td>2108080724</td>\n",
       "      <td>2019-08-15</td>\n",
       "      <td>202740</td>\n",
       "      <td>B</td>\n",
       "    </tr>\n",
       "  </tbody>\n",
       "</table>\n",
       "<p>1197 rows × 5 columns</p>\n",
       "</div>"
      ],
      "text/plain": [
       "      transactionId   visitorId        date  revenue group\n",
       "0        3667963787  3312258926  2019-08-15     1650     B\n",
       "1        2804400009  3642806036  2019-08-15      730     B\n",
       "2        2961555356  4069496402  2019-08-15      400     A\n",
       "3        3797467345  1196621759  2019-08-15     9759     B\n",
       "4        2282983706  2322279887  2019-08-15     2308     B\n",
       "...             ...         ...         ...      ...   ...\n",
       "1192     2662137336  3733762160  2019-08-14     6490     B\n",
       "1193     2203539145   370388673  2019-08-14     3190     A\n",
       "1194     1807773912   573423106  2019-08-14    10550     A\n",
       "1195     1947021204  1614305549  2019-08-14      100     A\n",
       "1196     3936777065  2108080724  2019-08-15   202740     B\n",
       "\n",
       "[1197 rows x 5 columns]"
      ]
     },
     "metadata": {},
     "output_type": "display_data"
    }
   ],
   "source": [
    "#преобразование данных orders столбец даты в формат даты:\n",
    "orders['date'] = pd.to_datetime(orders['date']).dt.date  \n",
    "display(orders)"
   ]
  },
  {
   "cell_type": "code",
   "execution_count": 12,
   "metadata": {},
   "outputs": [
    {
     "data": {
      "text/html": [
       "<div>\n",
       "<style scoped>\n",
       "    .dataframe tbody tr th:only-of-type {\n",
       "        vertical-align: middle;\n",
       "    }\n",
       "\n",
       "    .dataframe tbody tr th {\n",
       "        vertical-align: top;\n",
       "    }\n",
       "\n",
       "    .dataframe thead th {\n",
       "        text-align: right;\n",
       "    }\n",
       "</style>\n",
       "<table border=\"1\" class=\"dataframe\">\n",
       "  <thead>\n",
       "    <tr style=\"text-align: right;\">\n",
       "      <th></th>\n",
       "      <th>date</th>\n",
       "      <th>group</th>\n",
       "      <th>visitors</th>\n",
       "    </tr>\n",
       "  </thead>\n",
       "  <tbody>\n",
       "    <tr>\n",
       "      <th>0</th>\n",
       "      <td>2019-08-01</td>\n",
       "      <td>A</td>\n",
       "      <td>719</td>\n",
       "    </tr>\n",
       "    <tr>\n",
       "      <th>1</th>\n",
       "      <td>2019-08-02</td>\n",
       "      <td>A</td>\n",
       "      <td>619</td>\n",
       "    </tr>\n",
       "    <tr>\n",
       "      <th>2</th>\n",
       "      <td>2019-08-03</td>\n",
       "      <td>A</td>\n",
       "      <td>507</td>\n",
       "    </tr>\n",
       "    <tr>\n",
       "      <th>3</th>\n",
       "      <td>2019-08-04</td>\n",
       "      <td>A</td>\n",
       "      <td>717</td>\n",
       "    </tr>\n",
       "    <tr>\n",
       "      <th>4</th>\n",
       "      <td>2019-08-05</td>\n",
       "      <td>A</td>\n",
       "      <td>756</td>\n",
       "    </tr>\n",
       "    <tr>\n",
       "      <th>...</th>\n",
       "      <td>...</td>\n",
       "      <td>...</td>\n",
       "      <td>...</td>\n",
       "    </tr>\n",
       "    <tr>\n",
       "      <th>57</th>\n",
       "      <td>2019-08-27</td>\n",
       "      <td>B</td>\n",
       "      <td>720</td>\n",
       "    </tr>\n",
       "    <tr>\n",
       "      <th>58</th>\n",
       "      <td>2019-08-28</td>\n",
       "      <td>B</td>\n",
       "      <td>654</td>\n",
       "    </tr>\n",
       "    <tr>\n",
       "      <th>59</th>\n",
       "      <td>2019-08-29</td>\n",
       "      <td>B</td>\n",
       "      <td>531</td>\n",
       "    </tr>\n",
       "    <tr>\n",
       "      <th>60</th>\n",
       "      <td>2019-08-30</td>\n",
       "      <td>B</td>\n",
       "      <td>490</td>\n",
       "    </tr>\n",
       "    <tr>\n",
       "      <th>61</th>\n",
       "      <td>2019-08-31</td>\n",
       "      <td>B</td>\n",
       "      <td>718</td>\n",
       "    </tr>\n",
       "  </tbody>\n",
       "</table>\n",
       "<p>62 rows × 3 columns</p>\n",
       "</div>"
      ],
      "text/plain": [
       "          date group  visitors\n",
       "0   2019-08-01     A       719\n",
       "1   2019-08-02     A       619\n",
       "2   2019-08-03     A       507\n",
       "3   2019-08-04     A       717\n",
       "4   2019-08-05     A       756\n",
       "..         ...   ...       ...\n",
       "57  2019-08-27     B       720\n",
       "58  2019-08-28     B       654\n",
       "59  2019-08-29     B       531\n",
       "60  2019-08-30     B       490\n",
       "61  2019-08-31     B       718\n",
       "\n",
       "[62 rows x 3 columns]"
      ]
     },
     "metadata": {},
     "output_type": "display_data"
    }
   ],
   "source": [
    "#преобразование данных visitors столбец даты в формат даты:\n",
    "visitors['date'] = pd.to_datetime(visitors['date']).dt.date  \n",
    "display(visitors)"
   ]
  },
  {
   "cell_type": "markdown",
   "metadata": {},
   "source": [
    "#### Вывод:\n",
    "В данной подготовке: \n",
    "- мы загрузили библиотеки;\n",
    "- открыли для чтения файлы: hypothesis, orders, visitors;\n",
    "- привели к нижнему регистру названия столбцов у hypothesis;\n",
    "- проверили на пропуски hypothesis;\n",
    "- преобразовали данные orders,visitors столбцы даты в формат даты."
   ]
  },
  {
   "cell_type": "markdown",
   "metadata": {},
   "source": [
    "## Приоритизация гипотез."
   ]
  },
  {
   "cell_type": "markdown",
   "metadata": {},
   "source": [
    "### Применение фреймворк ICE для приоритизации гипотез. "
   ]
  },
  {
   "cell_type": "markdown",
   "metadata": {},
   "source": [
    "#### ICE (от англ. impact, confidence, effort / ease «влияние, уверенность, усилия / простота») — один из самых популярных способов приоритизации задач:"
   ]
  },
  {
   "cell_type": "code",
   "execution_count": 13,
   "metadata": {},
   "outputs": [
    {
     "data": {
      "text/html": [
       "<div>\n",
       "<style scoped>\n",
       "    .dataframe tbody tr th:only-of-type {\n",
       "        vertical-align: middle;\n",
       "    }\n",
       "\n",
       "    .dataframe tbody tr th {\n",
       "        vertical-align: top;\n",
       "    }\n",
       "\n",
       "    .dataframe thead th {\n",
       "        text-align: right;\n",
       "    }\n",
       "</style>\n",
       "<table border=\"1\" class=\"dataframe\">\n",
       "  <thead>\n",
       "    <tr style=\"text-align: right;\">\n",
       "      <th></th>\n",
       "      <th>hypothesis</th>\n",
       "      <th>ICE</th>\n",
       "    </tr>\n",
       "  </thead>\n",
       "  <tbody>\n",
       "    <tr>\n",
       "      <th>8</th>\n",
       "      <td>Запустить акцию, дающую скидку на товар в день...</td>\n",
       "      <td>16.20</td>\n",
       "    </tr>\n",
       "    <tr>\n",
       "      <th>0</th>\n",
       "      <td>Добавить два новых канала привлечения трафика,...</td>\n",
       "      <td>13.33</td>\n",
       "    </tr>\n",
       "    <tr>\n",
       "      <th>7</th>\n",
       "      <td>Добавить форму подписки на все основные страни...</td>\n",
       "      <td>11.20</td>\n",
       "    </tr>\n",
       "    <tr>\n",
       "      <th>6</th>\n",
       "      <td>Показать на главной странице баннеры с актуаль...</td>\n",
       "      <td>8.00</td>\n",
       "    </tr>\n",
       "    <tr>\n",
       "      <th>2</th>\n",
       "      <td>Добавить блоки рекомендаций товаров на сайт ин...</td>\n",
       "      <td>7.00</td>\n",
       "    </tr>\n",
       "    <tr>\n",
       "      <th>1</th>\n",
       "      <td>Запустить собственную службу доставки, что сок...</td>\n",
       "      <td>2.00</td>\n",
       "    </tr>\n",
       "    <tr>\n",
       "      <th>5</th>\n",
       "      <td>Добавить страницу отзывов клиентов о магазине,...</td>\n",
       "      <td>1.33</td>\n",
       "    </tr>\n",
       "    <tr>\n",
       "      <th>3</th>\n",
       "      <td>Изменить структура категорий, что увеличит кон...</td>\n",
       "      <td>1.12</td>\n",
       "    </tr>\n",
       "    <tr>\n",
       "      <th>4</th>\n",
       "      <td>Изменить цвет фона главной страницы, чтобы уве...</td>\n",
       "      <td>1.00</td>\n",
       "    </tr>\n",
       "  </tbody>\n",
       "</table>\n",
       "</div>"
      ],
      "text/plain": [
       "                                          hypothesis    ICE\n",
       "8  Запустить акцию, дающую скидку на товар в день...  16.20\n",
       "0  Добавить два новых канала привлечения трафика,...  13.33\n",
       "7  Добавить форму подписки на все основные страни...  11.20\n",
       "6  Показать на главной странице баннеры с актуаль...   8.00\n",
       "2  Добавить блоки рекомендаций товаров на сайт ин...   7.00\n",
       "1  Запустить собственную службу доставки, что сок...   2.00\n",
       "5  Добавить страницу отзывов клиентов о магазине,...   1.33\n",
       "3  Изменить структура категорий, что увеличит кон...   1.12\n",
       "4  Изменить цвет фона главной страницы, чтобы уве...   1.00"
      ]
     },
     "metadata": {},
     "output_type": "display_data"
    }
   ],
   "source": [
    "# Посчитаем ICE для гипотез по формуле: ICE_SCORE = (impact * confidence)/efforts: \n",
    "hypothesis['ICE'] = ( hypothesis['impact'] * hypothesis['confidence']) / hypothesis['efforts']\n",
    "display(hypothesis[['hypothesis', 'ICE']].sort_values(by='ICE', ascending=False).round(2))"
   ]
  },
  {
   "cell_type": "markdown",
   "metadata": {},
   "source": [
    "Спасибо"
   ]
  },
  {
   "cell_type": "markdown",
   "metadata": {},
   "source": [
    "##### Вывод: Самая популярная гипотеза '8' - \"запустить акцию, дающую скидку на товар\"."
   ]
  },
  {
   "cell_type": "markdown",
   "metadata": {},
   "source": [
    "### Применим фреймворк RICE для приоритизации гипотез."
   ]
  },
  {
   "cell_type": "markdown",
   "metadata": {},
   "source": [
    "#### У этого метода есть модификация RICE (R от англ. reach, «охват»):"
   ]
  },
  {
   "cell_type": "code",
   "execution_count": 14,
   "metadata": {},
   "outputs": [
    {
     "data": {
      "text/html": [
       "<div>\n",
       "<style scoped>\n",
       "    .dataframe tbody tr th:only-of-type {\n",
       "        vertical-align: middle;\n",
       "    }\n",
       "\n",
       "    .dataframe tbody tr th {\n",
       "        vertical-align: top;\n",
       "    }\n",
       "\n",
       "    .dataframe thead th {\n",
       "        text-align: right;\n",
       "    }\n",
       "</style>\n",
       "<table border=\"1\" class=\"dataframe\">\n",
       "  <thead>\n",
       "    <tr style=\"text-align: right;\">\n",
       "      <th></th>\n",
       "      <th>hypothesis</th>\n",
       "      <th>RICE</th>\n",
       "    </tr>\n",
       "  </thead>\n",
       "  <tbody>\n",
       "    <tr>\n",
       "      <th>7</th>\n",
       "      <td>Добавить форму подписки на все основные страни...</td>\n",
       "      <td>112.0</td>\n",
       "    </tr>\n",
       "    <tr>\n",
       "      <th>2</th>\n",
       "      <td>Добавить блоки рекомендаций товаров на сайт ин...</td>\n",
       "      <td>56.0</td>\n",
       "    </tr>\n",
       "    <tr>\n",
       "      <th>0</th>\n",
       "      <td>Добавить два новых канала привлечения трафика,...</td>\n",
       "      <td>40.0</td>\n",
       "    </tr>\n",
       "    <tr>\n",
       "      <th>6</th>\n",
       "      <td>Показать на главной странице баннеры с актуаль...</td>\n",
       "      <td>40.0</td>\n",
       "    </tr>\n",
       "    <tr>\n",
       "      <th>8</th>\n",
       "      <td>Запустить акцию, дающую скидку на товар в день...</td>\n",
       "      <td>16.2</td>\n",
       "    </tr>\n",
       "    <tr>\n",
       "      <th>3</th>\n",
       "      <td>Изменить структура категорий, что увеличит кон...</td>\n",
       "      <td>9.0</td>\n",
       "    </tr>\n",
       "    <tr>\n",
       "      <th>1</th>\n",
       "      <td>Запустить собственную службу доставки, что сок...</td>\n",
       "      <td>4.0</td>\n",
       "    </tr>\n",
       "    <tr>\n",
       "      <th>5</th>\n",
       "      <td>Добавить страницу отзывов клиентов о магазине,...</td>\n",
       "      <td>4.0</td>\n",
       "    </tr>\n",
       "    <tr>\n",
       "      <th>4</th>\n",
       "      <td>Изменить цвет фона главной страницы, чтобы уве...</td>\n",
       "      <td>3.0</td>\n",
       "    </tr>\n",
       "  </tbody>\n",
       "</table>\n",
       "</div>"
      ],
      "text/plain": [
       "                                          hypothesis   RICE\n",
       "7  Добавить форму подписки на все основные страни...  112.0\n",
       "2  Добавить блоки рекомендаций товаров на сайт ин...   56.0\n",
       "0  Добавить два новых канала привлечения трафика,...   40.0\n",
       "6  Показать на главной странице баннеры с актуаль...   40.0\n",
       "8  Запустить акцию, дающую скидку на товар в день...   16.2\n",
       "3  Изменить структура категорий, что увеличит кон...    9.0\n",
       "1  Запустить собственную службу доставки, что сок...    4.0\n",
       "5  Добавить страницу отзывов клиентов о магазине,...    4.0\n",
       "4  Изменить цвет фона главной страницы, чтобы уве...    3.0"
      ]
     },
     "metadata": {},
     "output_type": "display_data"
    }
   ],
   "source": [
    "# Посчитаем RICE для гипотез по формуле: (reach * impact * confidence) / efforts:\n",
    "hypothesis['RICE'] = (hypothesis['reach'] *  hypothesis['impact'] * hypothesis['confidence']) / hypothesis['efforts']\n",
    "display(hypothesis[['hypothesis', 'RICE']].sort_values(by='RICE', ascending=False).round(2))"
   ]
  },
  {
   "cell_type": "markdown",
   "metadata": {},
   "source": [
    "##### Вывод: Самая популярная гипотеза '7' - \"добавить форму подписки на все основные страницы\"."
   ]
  },
  {
   "cell_type": "markdown",
   "metadata": {},
   "source": [
    "### Рассмотрим, как изменилась приоритизация гипотез при применении RICE вместо ICE. Объяснение, почему так произошло."
   ]
  },
  {
   "cell_type": "code",
   "execution_count": 15,
   "metadata": {},
   "outputs": [
    {
     "data": {
      "text/html": [
       "<div>\n",
       "<style scoped>\n",
       "    .dataframe tbody tr th:only-of-type {\n",
       "        vertical-align: middle;\n",
       "    }\n",
       "\n",
       "    .dataframe tbody tr th {\n",
       "        vertical-align: top;\n",
       "    }\n",
       "\n",
       "    .dataframe thead th {\n",
       "        text-align: right;\n",
       "    }\n",
       "</style>\n",
       "<table border=\"1\" class=\"dataframe\">\n",
       "  <thead>\n",
       "    <tr style=\"text-align: right;\">\n",
       "      <th></th>\n",
       "      <th>hypothesis</th>\n",
       "      <th>reach</th>\n",
       "      <th>impact</th>\n",
       "      <th>confidence</th>\n",
       "      <th>efforts</th>\n",
       "      <th>ICE</th>\n",
       "      <th>RICE</th>\n",
       "    </tr>\n",
       "  </thead>\n",
       "  <tbody>\n",
       "    <tr>\n",
       "      <th>7</th>\n",
       "      <td>Добавить форму подписки на все основные страни...</td>\n",
       "      <td>10</td>\n",
       "      <td>7</td>\n",
       "      <td>8</td>\n",
       "      <td>5</td>\n",
       "      <td>11.200000</td>\n",
       "      <td>112.0</td>\n",
       "    </tr>\n",
       "    <tr>\n",
       "      <th>2</th>\n",
       "      <td>Добавить блоки рекомендаций товаров на сайт ин...</td>\n",
       "      <td>8</td>\n",
       "      <td>3</td>\n",
       "      <td>7</td>\n",
       "      <td>3</td>\n",
       "      <td>7.000000</td>\n",
       "      <td>56.0</td>\n",
       "    </tr>\n",
       "    <tr>\n",
       "      <th>0</th>\n",
       "      <td>Добавить два новых канала привлечения трафика,...</td>\n",
       "      <td>3</td>\n",
       "      <td>10</td>\n",
       "      <td>8</td>\n",
       "      <td>6</td>\n",
       "      <td>13.333333</td>\n",
       "      <td>40.0</td>\n",
       "    </tr>\n",
       "    <tr>\n",
       "      <th>6</th>\n",
       "      <td>Показать на главной странице баннеры с актуаль...</td>\n",
       "      <td>5</td>\n",
       "      <td>3</td>\n",
       "      <td>8</td>\n",
       "      <td>3</td>\n",
       "      <td>8.000000</td>\n",
       "      <td>40.0</td>\n",
       "    </tr>\n",
       "    <tr>\n",
       "      <th>8</th>\n",
       "      <td>Запустить акцию, дающую скидку на товар в день...</td>\n",
       "      <td>1</td>\n",
       "      <td>9</td>\n",
       "      <td>9</td>\n",
       "      <td>5</td>\n",
       "      <td>16.200000</td>\n",
       "      <td>16.2</td>\n",
       "    </tr>\n",
       "    <tr>\n",
       "      <th>3</th>\n",
       "      <td>Изменить структура категорий, что увеличит кон...</td>\n",
       "      <td>8</td>\n",
       "      <td>3</td>\n",
       "      <td>3</td>\n",
       "      <td>8</td>\n",
       "      <td>1.125000</td>\n",
       "      <td>9.0</td>\n",
       "    </tr>\n",
       "    <tr>\n",
       "      <th>1</th>\n",
       "      <td>Запустить собственную службу доставки, что сок...</td>\n",
       "      <td>2</td>\n",
       "      <td>5</td>\n",
       "      <td>4</td>\n",
       "      <td>10</td>\n",
       "      <td>2.000000</td>\n",
       "      <td>4.0</td>\n",
       "    </tr>\n",
       "    <tr>\n",
       "      <th>5</th>\n",
       "      <td>Добавить страницу отзывов клиентов о магазине,...</td>\n",
       "      <td>3</td>\n",
       "      <td>2</td>\n",
       "      <td>2</td>\n",
       "      <td>3</td>\n",
       "      <td>1.333333</td>\n",
       "      <td>4.0</td>\n",
       "    </tr>\n",
       "    <tr>\n",
       "      <th>4</th>\n",
       "      <td>Изменить цвет фона главной страницы, чтобы уве...</td>\n",
       "      <td>3</td>\n",
       "      <td>1</td>\n",
       "      <td>1</td>\n",
       "      <td>1</td>\n",
       "      <td>1.000000</td>\n",
       "      <td>3.0</td>\n",
       "    </tr>\n",
       "  </tbody>\n",
       "</table>\n",
       "</div>"
      ],
      "text/plain": [
       "                                          hypothesis  reach  impact  \\\n",
       "7  Добавить форму подписки на все основные страни...     10       7   \n",
       "2  Добавить блоки рекомендаций товаров на сайт ин...      8       3   \n",
       "0  Добавить два новых канала привлечения трафика,...      3      10   \n",
       "6  Показать на главной странице баннеры с актуаль...      5       3   \n",
       "8  Запустить акцию, дающую скидку на товар в день...      1       9   \n",
       "3  Изменить структура категорий, что увеличит кон...      8       3   \n",
       "1  Запустить собственную службу доставки, что сок...      2       5   \n",
       "5  Добавить страницу отзывов клиентов о магазине,...      3       2   \n",
       "4  Изменить цвет фона главной страницы, чтобы уве...      3       1   \n",
       "\n",
       "   confidence  efforts        ICE   RICE  \n",
       "7           8        5  11.200000  112.0  \n",
       "2           7        3   7.000000   56.0  \n",
       "0           8        6  13.333333   40.0  \n",
       "6           8        3   8.000000   40.0  \n",
       "8           9        5  16.200000   16.2  \n",
       "3           3        8   1.125000    9.0  \n",
       "1           4       10   2.000000    4.0  \n",
       "5           2        3   1.333333    4.0  \n",
       "4           1        1   1.000000    3.0  "
      ]
     },
     "metadata": {},
     "output_type": "display_data"
    }
   ],
   "source": [
    "#Рассмотрим hypothesis при применении RICE вместо ICE:\n",
    "display(hypothesis.sort_values(by='RICE', ascending=False))"
   ]
  },
  {
   "cell_type": "markdown",
   "metadata": {},
   "source": [
    "#### Вывод:\n",
    "При обоих методах гипотезы:\n",
    "- \"7\" - \"добавить форму подписки на все основные страницы\", правда для RICE приоритете, а для ICE на третьей позиции. \n",
    "- \"0\" - \"добавить два новых канала привлечения трафика\", для RICE на третьей позиции, а для ICE на второй.\n",
    "- Эти гипотезы в целом для привлечения больше пользователей, т.к. форму подписки на основных страницах увидят почти все посетители сайта, а новые каналы трафика вероятно 30% пользователей.\n",
    "Пять лучших гипотез для обоих методов: 7, 2, 0, 6, 8.\n",
    "\n",
    "При расчете ICE и RICE: \n",
    "- гипотеза \"7\" - на первом месте для \"RICE\" \n",
    "- для \"ICE\" - \"8\" - \"Запустить акцию, дающую скидку на товар в день рождения\". \n",
    "- Так получилось потому, что у \"RICE\" -  7й параметр reach равен 10, в то время как у остальных гипотез он меньше.\n",
    "Параметр охвата (Reach), использующийся в методе RICE изменил всю приоритетность, полученную по методу ICE.\n",
    "Кроме самой гипотезы нужно учитывать и то, сколько пользователей она затронет.\n"
   ]
  },
  {
   "cell_type": "markdown",
   "metadata": {},
   "source": [
    "## Анализ A/B-теста."
   ]
  },
  {
   "cell_type": "markdown",
   "metadata": {},
   "source": [
    "### Построение графика кумулятивной выручки по группам."
   ]
  },
  {
   "cell_type": "markdown",
   "metadata": {},
   "source": [
    "#### Подготовка данных"
   ]
  },
  {
   "cell_type": "code",
   "execution_count": 16,
   "metadata": {},
   "outputs": [
    {
     "data": {
      "text/html": [
       "<div>\n",
       "<style scoped>\n",
       "    .dataframe tbody tr th:only-of-type {\n",
       "        vertical-align: middle;\n",
       "    }\n",
       "\n",
       "    .dataframe tbody tr th {\n",
       "        vertical-align: top;\n",
       "    }\n",
       "\n",
       "    .dataframe thead th {\n",
       "        text-align: right;\n",
       "    }\n",
       "</style>\n",
       "<table border=\"1\" class=\"dataframe\">\n",
       "  <thead>\n",
       "    <tr style=\"text-align: right;\">\n",
       "      <th></th>\n",
       "      <th>transactionId</th>\n",
       "      <th>visitorId</th>\n",
       "      <th>date</th>\n",
       "      <th>revenue</th>\n",
       "      <th>group</th>\n",
       "    </tr>\n",
       "  </thead>\n",
       "  <tbody>\n",
       "    <tr>\n",
       "      <th>0</th>\n",
       "      <td>3667963787</td>\n",
       "      <td>3312258926</td>\n",
       "      <td>2019-08-15</td>\n",
       "      <td>1650</td>\n",
       "      <td>B</td>\n",
       "    </tr>\n",
       "    <tr>\n",
       "      <th>1</th>\n",
       "      <td>2804400009</td>\n",
       "      <td>3642806036</td>\n",
       "      <td>2019-08-15</td>\n",
       "      <td>730</td>\n",
       "      <td>B</td>\n",
       "    </tr>\n",
       "    <tr>\n",
       "      <th>2</th>\n",
       "      <td>2961555356</td>\n",
       "      <td>4069496402</td>\n",
       "      <td>2019-08-15</td>\n",
       "      <td>400</td>\n",
       "      <td>A</td>\n",
       "    </tr>\n",
       "    <tr>\n",
       "      <th>3</th>\n",
       "      <td>3797467345</td>\n",
       "      <td>1196621759</td>\n",
       "      <td>2019-08-15</td>\n",
       "      <td>9759</td>\n",
       "      <td>B</td>\n",
       "    </tr>\n",
       "    <tr>\n",
       "      <th>4</th>\n",
       "      <td>2282983706</td>\n",
       "      <td>2322279887</td>\n",
       "      <td>2019-08-15</td>\n",
       "      <td>2308</td>\n",
       "      <td>B</td>\n",
       "    </tr>\n",
       "    <tr>\n",
       "      <th>5</th>\n",
       "      <td>182168103</td>\n",
       "      <td>935554773</td>\n",
       "      <td>2019-08-15</td>\n",
       "      <td>2210</td>\n",
       "      <td>B</td>\n",
       "    </tr>\n",
       "    <tr>\n",
       "      <th>6</th>\n",
       "      <td>398296753</td>\n",
       "      <td>2900797465</td>\n",
       "      <td>2019-08-15</td>\n",
       "      <td>1860</td>\n",
       "      <td>B</td>\n",
       "    </tr>\n",
       "    <tr>\n",
       "      <th>7</th>\n",
       "      <td>2626614568</td>\n",
       "      <td>78758296</td>\n",
       "      <td>2019-08-15</td>\n",
       "      <td>1044</td>\n",
       "      <td>A</td>\n",
       "    </tr>\n",
       "    <tr>\n",
       "      <th>8</th>\n",
       "      <td>1576988021</td>\n",
       "      <td>295230930</td>\n",
       "      <td>2019-08-15</td>\n",
       "      <td>13710</td>\n",
       "      <td>A</td>\n",
       "    </tr>\n",
       "    <tr>\n",
       "      <th>9</th>\n",
       "      <td>1506739906</td>\n",
       "      <td>1882260405</td>\n",
       "      <td>2019-08-15</td>\n",
       "      <td>1855</td>\n",
       "      <td>B</td>\n",
       "    </tr>\n",
       "  </tbody>\n",
       "</table>\n",
       "</div>"
      ],
      "text/plain": [
       "   transactionId   visitorId        date  revenue group\n",
       "0     3667963787  3312258926  2019-08-15     1650     B\n",
       "1     2804400009  3642806036  2019-08-15      730     B\n",
       "2     2961555356  4069496402  2019-08-15      400     A\n",
       "3     3797467345  1196621759  2019-08-15     9759     B\n",
       "4     2282983706  2322279887  2019-08-15     2308     B\n",
       "5      182168103   935554773  2019-08-15     2210     B\n",
       "6      398296753  2900797465  2019-08-15     1860     B\n",
       "7     2626614568    78758296  2019-08-15     1044     A\n",
       "8     1576988021   295230930  2019-08-15    13710     A\n",
       "9     1506739906  1882260405  2019-08-15     1855     B"
      ]
     },
     "metadata": {},
     "output_type": "display_data"
    }
   ],
   "source": [
    "#просмотр данных orders:\n",
    "display(orders.head(10))"
   ]
  },
  {
   "cell_type": "code",
   "execution_count": 17,
   "metadata": {},
   "outputs": [
    {
     "data": {
      "text/html": [
       "<div>\n",
       "<style scoped>\n",
       "    .dataframe tbody tr th:only-of-type {\n",
       "        vertical-align: middle;\n",
       "    }\n",
       "\n",
       "    .dataframe tbody tr th {\n",
       "        vertical-align: top;\n",
       "    }\n",
       "\n",
       "    .dataframe thead th {\n",
       "        text-align: right;\n",
       "    }\n",
       "</style>\n",
       "<table border=\"1\" class=\"dataframe\">\n",
       "  <thead>\n",
       "    <tr style=\"text-align: right;\">\n",
       "      <th></th>\n",
       "      <th>date</th>\n",
       "      <th>group</th>\n",
       "      <th>visitors</th>\n",
       "    </tr>\n",
       "  </thead>\n",
       "  <tbody>\n",
       "    <tr>\n",
       "      <th>0</th>\n",
       "      <td>2019-08-01</td>\n",
       "      <td>A</td>\n",
       "      <td>719</td>\n",
       "    </tr>\n",
       "    <tr>\n",
       "      <th>1</th>\n",
       "      <td>2019-08-02</td>\n",
       "      <td>A</td>\n",
       "      <td>619</td>\n",
       "    </tr>\n",
       "    <tr>\n",
       "      <th>2</th>\n",
       "      <td>2019-08-03</td>\n",
       "      <td>A</td>\n",
       "      <td>507</td>\n",
       "    </tr>\n",
       "    <tr>\n",
       "      <th>3</th>\n",
       "      <td>2019-08-04</td>\n",
       "      <td>A</td>\n",
       "      <td>717</td>\n",
       "    </tr>\n",
       "    <tr>\n",
       "      <th>4</th>\n",
       "      <td>2019-08-05</td>\n",
       "      <td>A</td>\n",
       "      <td>756</td>\n",
       "    </tr>\n",
       "    <tr>\n",
       "      <th>5</th>\n",
       "      <td>2019-08-06</td>\n",
       "      <td>A</td>\n",
       "      <td>667</td>\n",
       "    </tr>\n",
       "    <tr>\n",
       "      <th>6</th>\n",
       "      <td>2019-08-07</td>\n",
       "      <td>A</td>\n",
       "      <td>644</td>\n",
       "    </tr>\n",
       "    <tr>\n",
       "      <th>7</th>\n",
       "      <td>2019-08-08</td>\n",
       "      <td>A</td>\n",
       "      <td>610</td>\n",
       "    </tr>\n",
       "    <tr>\n",
       "      <th>8</th>\n",
       "      <td>2019-08-09</td>\n",
       "      <td>A</td>\n",
       "      <td>617</td>\n",
       "    </tr>\n",
       "    <tr>\n",
       "      <th>9</th>\n",
       "      <td>2019-08-10</td>\n",
       "      <td>A</td>\n",
       "      <td>406</td>\n",
       "    </tr>\n",
       "  </tbody>\n",
       "</table>\n",
       "</div>"
      ],
      "text/plain": [
       "         date group  visitors\n",
       "0  2019-08-01     A       719\n",
       "1  2019-08-02     A       619\n",
       "2  2019-08-03     A       507\n",
       "3  2019-08-04     A       717\n",
       "4  2019-08-05     A       756\n",
       "5  2019-08-06     A       667\n",
       "6  2019-08-07     A       644\n",
       "7  2019-08-08     A       610\n",
       "8  2019-08-09     A       617\n",
       "9  2019-08-10     A       406"
      ]
     },
     "metadata": {},
     "output_type": "display_data"
    }
   ],
   "source": [
    "#просмотр данных visitors:\n",
    "display(visitors.head(10))"
   ]
  },
  {
   "cell_type": "code",
   "execution_count": 18,
   "metadata": {},
   "outputs": [
    {
     "data": {
      "text/plain": [
       "array([   8300375,  199603092,  232979603,  237748145,  276558944,\n",
       "        351125977,  393266494,  457167155,  471551937,  477780734,\n",
       "        818047933,  963407295, 1230306981, 1294878855, 1316129916,\n",
       "       1333886533, 1404934699, 1602967004, 1614305549, 1648269707,\n",
       "       1668030113, 1738359350, 1801183820, 1959144690, 2038680547,\n",
       "       2044997962, 2378935119, 2458001652, 2579882178, 2587333274,\n",
       "       2600415354, 2654030115, 2686716486, 2712142231, 2716752286,\n",
       "       2780786433, 2927087541, 2949041841, 2954449915, 3062433592,\n",
       "       3202540741, 3234906277, 3656415546, 3717692402, 3766097110,\n",
       "       3803269165, 3891541246, 3941795274, 3951559397, 3957174400,\n",
       "       3963646447, 3972127743, 3984495233, 4069496402, 4120364173,\n",
       "       4186807279, 4256040402, 4266935830])"
      ]
     },
     "metadata": {},
     "output_type": "display_data"
    }
   ],
   "source": [
    "#Проверим, есть ли пользователи, которые попали в обе группы:\n",
    "duplicates_users = np.intersect1d(orders.query('group == \"A\"')['visitorId'].unique(), orders.query('group == \"B\"')['visitorId'].unique())\n",
    "display(duplicates_users)"
   ]
  },
  {
   "cell_type": "code",
   "execution_count": 19,
   "metadata": {},
   "outputs": [
    {
     "data": {
      "text/plain": [
       "'Общее количество пользователей до удаления \"двойных\" пользователей:'"
      ]
     },
     "metadata": {},
     "output_type": "display_data"
    },
    {
     "data": {
      "text/plain": [
       "1031"
      ]
     },
     "metadata": {},
     "output_type": "display_data"
    },
    {
     "data": {
      "text/plain": [
       "'количество пользователей в группе А:'"
      ]
     },
     "metadata": {},
     "output_type": "display_data"
    },
    {
     "data": {
      "text/plain": [
       "503"
      ]
     },
     "metadata": {},
     "output_type": "display_data"
    },
    {
     "data": {
      "text/plain": [
       "'количество пользователей в группе В:'"
      ]
     },
     "metadata": {},
     "output_type": "display_data"
    },
    {
     "data": {
      "text/plain": [
       "586"
      ]
     },
     "metadata": {},
     "output_type": "display_data"
    }
   ],
   "source": [
    "display('Общее количество пользователей до удаления \"двойных\" пользователей:', orders['visitorId'].nunique())\n",
    "display('количество пользователей в группе А:', orders.query('group == \"A\"')['visitorId'].nunique())\n",
    "display('количество пользователей в группе В:', orders.query('group == \"B\"')['visitorId'].nunique())"
   ]
  },
  {
   "cell_type": "code",
   "execution_count": 20,
   "metadata": {},
   "outputs": [
    {
     "data": {
      "text/plain": [
       "'Итого \"двойных пользователей\":'"
      ]
     },
     "metadata": {},
     "output_type": "display_data"
    },
    {
     "data": {
      "text/plain": [
       "58"
      ]
     },
     "metadata": {},
     "output_type": "display_data"
    }
   ],
   "source": [
    "display('Итого \"двойных пользователей\":',len(duplicates_users))"
   ]
  },
  {
   "cell_type": "markdown",
   "metadata": {},
   "source": [
    "##### Аргументация: \n",
    "Таких пользователей - 58, это около 10% в каждой группе. Их участие сразу в обоих группах может субъективно исказить результаты, а также повлиять на расчет выбросов. Но поскольку нам известны только id пользователей, совершивших хоть один платеж, а \"неплатящие\" неизвестны, то удаление таких пользователей может также исказить результаты в сторону \"неплатящих\". Оставим их в данных."
   ]
  },
  {
   "cell_type": "markdown",
   "metadata": {},
   "source": []
  },
  {
   "cell_type": "code",
   "execution_count": 21,
   "metadata": {},
   "outputs": [],
   "source": [
    "# создаем массив уникальных пар значений дат и групп теста\n",
    "datesGroups = orders[['date','group']].drop_duplicates() "
   ]
  },
  {
   "cell_type": "code",
   "execution_count": 22,
   "metadata": {},
   "outputs": [
    {
     "data": {
      "text/html": [
       "<div>\n",
       "<style scoped>\n",
       "    .dataframe tbody tr th:only-of-type {\n",
       "        vertical-align: middle;\n",
       "    }\n",
       "\n",
       "    .dataframe tbody tr th {\n",
       "        vertical-align: top;\n",
       "    }\n",
       "\n",
       "    .dataframe thead th {\n",
       "        text-align: right;\n",
       "    }\n",
       "</style>\n",
       "<table border=\"1\" class=\"dataframe\">\n",
       "  <thead>\n",
       "    <tr style=\"text-align: right;\">\n",
       "      <th></th>\n",
       "      <th>date</th>\n",
       "      <th>group</th>\n",
       "      <th>orders</th>\n",
       "      <th>buyers</th>\n",
       "      <th>revenue</th>\n",
       "      <th>visitors</th>\n",
       "    </tr>\n",
       "  </thead>\n",
       "  <tbody>\n",
       "    <tr>\n",
       "      <th>0</th>\n",
       "      <td>2019-08-01</td>\n",
       "      <td>A</td>\n",
       "      <td>24</td>\n",
       "      <td>20</td>\n",
       "      <td>148579</td>\n",
       "      <td>719</td>\n",
       "    </tr>\n",
       "    <tr>\n",
       "      <th>1</th>\n",
       "      <td>2019-08-01</td>\n",
       "      <td>B</td>\n",
       "      <td>21</td>\n",
       "      <td>20</td>\n",
       "      <td>101217</td>\n",
       "      <td>713</td>\n",
       "    </tr>\n",
       "    <tr>\n",
       "      <th>2</th>\n",
       "      <td>2019-08-02</td>\n",
       "      <td>A</td>\n",
       "      <td>44</td>\n",
       "      <td>38</td>\n",
       "      <td>242401</td>\n",
       "      <td>1338</td>\n",
       "    </tr>\n",
       "    <tr>\n",
       "      <th>3</th>\n",
       "      <td>2019-08-02</td>\n",
       "      <td>B</td>\n",
       "      <td>45</td>\n",
       "      <td>43</td>\n",
       "      <td>266748</td>\n",
       "      <td>1294</td>\n",
       "    </tr>\n",
       "    <tr>\n",
       "      <th>4</th>\n",
       "      <td>2019-08-03</td>\n",
       "      <td>A</td>\n",
       "      <td>68</td>\n",
       "      <td>62</td>\n",
       "      <td>354874</td>\n",
       "      <td>1845</td>\n",
       "    </tr>\n",
       "  </tbody>\n",
       "</table>\n",
       "</div>"
      ],
      "text/plain": [
       "         date group  orders  buyers  revenue  visitors\n",
       "0  2019-08-01     A      24      20   148579       719\n",
       "1  2019-08-01     B      21      20   101217       713\n",
       "2  2019-08-02     A      44      38   242401      1338\n",
       "3  2019-08-02     B      45      43   266748      1294\n",
       "4  2019-08-03     A      68      62   354874      1845"
      ]
     },
     "metadata": {},
     "output_type": "display_data"
    }
   ],
   "source": [
    "#Соберём агрегированные кумулятивные по дням данные о заказах в несколько действий. \n",
    "ordersAggregated = datesGroups.apply(lambda x: orders[np.logical_and(orders['date'] <= x['date'], orders['group'] == x['group'])]\\\n",
    ".agg({'date' : 'max', 'group' : 'max', 'transactionId' : 'nunique', 'visitorId' : 'nunique', 'revenue' : 'sum'}), axis=1).sort_values(by=['date','group'])\n",
    "\n",
    "# получаем агрегированные кумулятивные по дням данные о посетителях интернет-магазина \n",
    "visitorsAggregated = datesGroups.apply(lambda x: visitors[np.logical_and(visitors['date'] <= x['date'], visitors['group'] == x['group'])].agg({'date' : 'max', 'group' : 'max', 'visitors' : 'sum'}), axis=1).sort_values(by=['date','group'])\n",
    "\n",
    "# объединяем кумулятивные данные в одной таблице и присваиваем ее столбцам понятные названия\n",
    "cumulativeData = ordersAggregated.merge(visitorsAggregated, left_on=['date', 'group'], right_on=['date', 'group'])\n",
    "\n",
    "cumulativeData.columns = ['date', 'group', 'orders', 'buyers', 'revenue', 'visitors']\n",
    "\n",
    "display(cumulativeData.head(5)) "
   ]
  },
  {
   "cell_type": "markdown",
   "metadata": {},
   "source": [
    "#### Построим графики кумулятивной выручки по дням и группам A/B-тестирования: "
   ]
  },
  {
   "cell_type": "code",
   "execution_count": 23,
   "metadata": {},
   "outputs": [
    {
     "data": {
      "text/plain": [
       "<matplotlib.legend.Legend at 0x7fe811ef6b50>"
      ]
     },
     "execution_count": 23,
     "metadata": {},
     "output_type": "execute_result"
    },
    {
     "data": {
      "image/png": "[encoded data removed]",
      "text/plain": [
       "<Figure size 1080x360 with 1 Axes>"
      ]
     },
     "metadata": {
      "needs_background": "light"
     },
     "output_type": "display_data"
    }
   ],
   "source": [
    "# датафрейм с кумулятивным количеством заказов и кумулятивной выручкой по дням в группе А\n",
    "cumulativeRevenueA = cumulativeData[cumulativeData['group']=='A'][['date','revenue', 'orders']]\n",
    "\n",
    "# датафрейм с кумулятивным количеством заказов и кумулятивной выручкой по дням в группе B\n",
    "cumulativeRevenueB = cumulativeData[cumulativeData['group']=='B'][['date','revenue', 'orders']]\n",
    "\n",
    "from pandas.plotting import register_matplotlib_converters\n",
    "register_matplotlib_converters()\n",
    "\n",
    "plt.figure(figsize=(15,5))\n",
    "#Строим график выручки группы А\n",
    "plt.plot(cumulativeRevenueA['date'], cumulativeRevenueA['revenue'], label='Кумулятивная выручка группы A')\n",
    "#Строим график выручки группы B\n",
    "plt.plot(cumulativeRevenueB['date'], cumulativeRevenueB['revenue'], label='Кумулятивная выручка группы B')\n",
    "plt.title('График кумулятивной выручки по группам\\n  ')\n",
    "plt.xlabel('\\nДата')\n",
    "plt.ylabel('Выручка\\n')\n",
    "plt.grid()\n",
    "plt.legend();\n"
   ]
  },
  {
   "cell_type": "markdown",
   "metadata": {},
   "source": [
    "Спасибо большое!"
   ]
  },
  {
   "cell_type": "markdown",
   "metadata": {},
   "source": [
    "#### Вывод:\n",
    "Выручка увеличивается в течение всего теста у обоих групп. Хороший знак.\n",
    "Однако график выручки группы B значительно быстрее растет, особенно есть скачок 19-08-2019. Это может сигнализировать о всплесках числа заказов, либо о появлении очень дорогих заказов в выборке. "
   ]
  },
  {
   "cell_type": "markdown",
   "metadata": {},
   "source": [
    "### Построим график кумулятивного среднего чека по группам. "
   ]
  },
  {
   "cell_type": "code",
   "execution_count": 24,
   "metadata": {},
   "outputs": [
    {
     "data": {
      "text/plain": [
       "<matplotlib.legend.Legend at 0x7fe811975a30>"
      ]
     },
     "execution_count": 24,
     "metadata": {},
     "output_type": "execute_result"
    },
    {
     "data": {
      "image/png": "[encoded data removed]",
      "text/plain": [
       "<Figure size 1080x360 with 1 Axes>"
      ]
     },
     "metadata": {
      "needs_background": "light"
     },
     "output_type": "display_data"
    }
   ],
   "source": [
    "#Построим графики среднего чека по группам — разделим кумулятивную выручку на кумулятивное число заказов:\n",
    "plt.figure(figsize=(15,5))\n",
    "plt.grid()\n",
    "\n",
    "plt.plot(cumulativeRevenueA['date'], cumulativeRevenueA['revenue']/cumulativeRevenueA['orders'], label='A')\n",
    "\n",
    "plt.plot(cumulativeRevenueB['date'], cumulativeRevenueB['revenue']/cumulativeRevenueB['orders'], label='B')\n",
    "\n",
    "plt.title('График кумулятивного среднего чека по группам\\n  ')\n",
    "plt.xlabel('\\nДата')\n",
    "plt.ylabel('Сумма среднего чека\\n')\n",
    "plt.legend()"
   ]
  },
  {
   "cell_type": "markdown",
   "metadata": {},
   "source": [
    "#### Вывод: \n",
    "В среднем чеке есть положительный скачок группы B - дата \"19-08-2019\", а затем равномерное снижение у группы B, но в целом тест B выдает значительно лучшие показания среднего чека по группам.\n",
    "У теста группы А существуют скачок снижения - \"06-08-2019\" и скачок увеличения \"13-08-2019\", а затем стабильно все без скачков.\n",
    "Но в целом группа B имеет лучше показатели, чем группа A."
   ]
  },
  {
   "cell_type": "markdown",
   "metadata": {},
   "source": [
    "### Построим график относительного изменения кумулятивного среднего чека группы B к группе A. "
   ]
  },
  {
   "cell_type": "code",
   "execution_count": 25,
   "metadata": {},
   "outputs": [
    {
     "data": {
      "text/plain": [
       "<matplotlib.lines.Line2D at 0x7fe811af3460>"
      ]
     },
     "execution_count": 25,
     "metadata": {},
     "output_type": "execute_result"
    },
    {
     "data": {
      "image/png": "[encoded data removed]",
      "text/plain": [
       "<Figure size 1080x360 with 1 Axes>"
      ]
     },
     "metadata": {
      "needs_background": "light"
     },
     "output_type": "display_data"
    }
   ],
   "source": [
    "# собираем данные в одном датафрейме\n",
    "mergedCumulativeRevenue = cumulativeRevenueA.merge(cumulativeRevenueB, left_on='date', right_on='date', how='left', suffixes=['A', 'B'])\n",
    "\n",
    "# cтроим отношение средних чеков\n",
    "plt.figure(figsize=(15,5))\n",
    "plt.grid()\n",
    "plt.plot(mergedCumulativeRevenue['date'], (mergedCumulativeRevenue['revenueB']/mergedCumulativeRevenue['ordersB'])/(mergedCumulativeRevenue['revenueA']/mergedCumulativeRevenue['ordersA'])-1)\n",
    "plt.title('График относительного изменения кумулятивного среднего чека группы B к группе A\\n  ')\n",
    "plt.xlabel('\\nДата')\n",
    "plt.ylabel('Изменение среденего чека \\n')\n",
    "# добавляем ось X\n",
    "plt.axhline(y=0, color='black', linestyle='--') "
   ]
  },
  {
   "cell_type": "markdown",
   "metadata": {},
   "source": [
    "#### Вывод:\n",
    "В нескольких точках (а точнее в датах: 05-08-2019, 07-08-2019, 13-08-2019,19-08-2019). График относительного изменения между сегментами резко «скачет». Где-то уж точно спрятались крупные заказы и выбросы! "
   ]
  },
  {
   "cell_type": "markdown",
   "metadata": {},
   "source": [
    "### Построим график кумулятивного среднего количества заказов на посетителя по группам."
   ]
  },
  {
   "cell_type": "code",
   "execution_count": 26,
   "metadata": {},
   "outputs": [
    {
     "data": {
      "text/plain": [
       "(18109.0, 18140.0, 0.0, 0.05)"
      ]
     },
     "execution_count": 26,
     "metadata": {},
     "output_type": "execute_result"
    },
    {
     "data": {
      "image/png": "[encoded data removed]",
      "text/plain": [
       "<Figure size 1080x360 with 1 Axes>"
      ]
     },
     "metadata": {
      "needs_background": "light"
     },
     "output_type": "display_data"
    }
   ],
   "source": [
    "#считаем кумулятивную конверсию\n",
    "cumulativeData['conversion'] = cumulativeData['orders']/cumulativeData['visitors']\n",
    "\n",
    "# отделяем данные по группе A\n",
    "cumulativeDataA = cumulativeData[cumulativeData['group']=='A']\n",
    "\n",
    "# отделяем данные по группе B\n",
    "cumulativeDataB = cumulativeData[cumulativeData['group']=='B']\n",
    "\n",
    "# строим графики\n",
    "plt.figure(figsize=(15,5))\n",
    "plt.grid()\n",
    "\n",
    "plt.plot(cumulativeDataA['date'], cumulativeDataA['conversion'], label='A')\n",
    "plt.plot(cumulativeDataB['date'], cumulativeDataB['conversion'], label='B')\n",
    "\n",
    "plt.title('График кумулятивного среднего количества заказов по группам\\n  ')\n",
    "plt.xlabel('\\nДата')\n",
    "plt.ylabel('Среднее кол-во заказов\\n')\n",
    "plt.legend()\n",
    "# задаем масштаб осей\n",
    "plt.axis([dt.datetime(2019, 8, 1), dt.datetime(2019, 9, 1), 0, 0.05])"
   ]
  },
  {
   "cell_type": "markdown",
   "metadata": {},
   "source": [
    "#### Вывод:\n",
    "Вначале периода группа А была немного выше группы B, но затем сегменты выровнялись и группа B стала значительно приоритетнее группы А."
   ]
  },
  {
   "cell_type": "markdown",
   "metadata": {},
   "source": [
    "### Построим график относительного изменения кумулятивного среднего количества заказов на посетителя группы B к группе A. "
   ]
  },
  {
   "cell_type": "code",
   "execution_count": 27,
   "metadata": {},
   "outputs": [
    {
     "data": {
      "text/plain": [
       "Text(0, 0.5, 'Относительне изменение количества заказов\\n')"
      ]
     },
     "execution_count": 27,
     "metadata": {},
     "output_type": "execute_result"
    },
    {
     "data": {
      "image/png": "[encoded data removed]",
      "text/plain": [
       "<Figure size 1080x360 with 1 Axes>"
      ]
     },
     "metadata": {
      "needs_background": "light"
     },
     "output_type": "display_data"
    }
   ],
   "source": [
    "#Построим график относительного различия кумулятивных конверсий:\n",
    "mergedCumulativeConversions = cumulativeDataA[['date','conversion']].merge(cumulativeDataB[['date','conversion']], left_on='date', right_on='date', how='left', suffixes=['A', 'B'])\n",
    "\n",
    "plt.figure(figsize=(15,5))\n",
    "plt.grid()\n",
    "plt.plot(mergedCumulativeConversions['date'], mergedCumulativeConversions['conversionB']/mergedCumulativeConversions['conversionA']-1, label=\"Относительный прирост конверсии группы B относительно группы A\")\n",
    "plt.legend()\n",
    "\n",
    "plt.axhline(y=0, color='black', linestyle='--')\n",
    "plt.axhline(y=-0.1, color='grey', linestyle='--')\n",
    "plt.axis([\"2019-08-01\", '2019-09-01', -0.4, 0.4])\n",
    "plt.title('График относительного изменения кумулятивного кол-ва заказов группы B к группе A\\n  ')\n",
    "plt.xlabel('\\nДата')\n",
    "plt.ylabel('Относительне изменение количества заказов\\n')"
   ]
  },
  {
   "cell_type": "markdown",
   "metadata": {},
   "source": [
    "#### Вывод:\n",
    "В целом количество заказов группы B имеет значительное превосходство по отношению группы А. Относительный прирост группы B относительно группы A +10 до +20 выше относительно группы A. "
   ]
  },
  {
   "cell_type": "markdown",
   "metadata": {},
   "source": [
    "### Построим точечный график количества заказов по пользователям."
   ]
  },
  {
   "cell_type": "code",
   "execution_count": 28,
   "metadata": {},
   "outputs": [
    {
     "data": {
      "text/html": [
       "<div>\n",
       "<style scoped>\n",
       "    .dataframe tbody tr th:only-of-type {\n",
       "        vertical-align: middle;\n",
       "    }\n",
       "\n",
       "    .dataframe tbody tr th {\n",
       "        vertical-align: top;\n",
       "    }\n",
       "\n",
       "    .dataframe thead th {\n",
       "        text-align: right;\n",
       "    }\n",
       "</style>\n",
       "<table border=\"1\" class=\"dataframe\">\n",
       "  <thead>\n",
       "    <tr style=\"text-align: right;\">\n",
       "      <th></th>\n",
       "      <th>user_id</th>\n",
       "      <th>orders</th>\n",
       "    </tr>\n",
       "  </thead>\n",
       "  <tbody>\n",
       "    <tr>\n",
       "      <th>1023</th>\n",
       "      <td>4256040402</td>\n",
       "      <td>11</td>\n",
       "    </tr>\n",
       "    <tr>\n",
       "      <th>591</th>\n",
       "      <td>2458001652</td>\n",
       "      <td>11</td>\n",
       "    </tr>\n",
       "    <tr>\n",
       "      <th>569</th>\n",
       "      <td>2378935119</td>\n",
       "      <td>9</td>\n",
       "    </tr>\n",
       "    <tr>\n",
       "      <th>487</th>\n",
       "      <td>2038680547</td>\n",
       "      <td>8</td>\n",
       "    </tr>\n",
       "    <tr>\n",
       "      <th>44</th>\n",
       "      <td>199603092</td>\n",
       "      <td>5</td>\n",
       "    </tr>\n",
       "    <tr>\n",
       "      <th>744</th>\n",
       "      <td>3062433592</td>\n",
       "      <td>5</td>\n",
       "    </tr>\n",
       "    <tr>\n",
       "      <th>55</th>\n",
       "      <td>237748145</td>\n",
       "      <td>5</td>\n",
       "    </tr>\n",
       "    <tr>\n",
       "      <th>917</th>\n",
       "      <td>3803269165</td>\n",
       "      <td>5</td>\n",
       "    </tr>\n",
       "    <tr>\n",
       "      <th>299</th>\n",
       "      <td>1230306981</td>\n",
       "      <td>5</td>\n",
       "    </tr>\n",
       "    <tr>\n",
       "      <th>897</th>\n",
       "      <td>3717692402</td>\n",
       "      <td>5</td>\n",
       "    </tr>\n",
       "  </tbody>\n",
       "</table>\n",
       "</div>"
      ],
      "text/plain": [
       "         user_id  orders\n",
       "1023  4256040402      11\n",
       "591   2458001652      11\n",
       "569   2378935119       9\n",
       "487   2038680547       8\n",
       "44     199603092       5\n",
       "744   3062433592       5\n",
       "55     237748145       5\n",
       "917   3803269165       5\n",
       "299   1230306981       5\n",
       "897   3717692402       5"
      ]
     },
     "execution_count": 28,
     "metadata": {},
     "output_type": "execute_result"
    }
   ],
   "source": [
    "#Подсчитаем количество заказов по пользователям и посмотрим на результат:\n",
    "ordersByUsers = orders.groupby('visitorId', as_index=False).agg({'transactionId' : pd.Series.nunique})\n",
    "\n",
    "ordersByUsers.columns = ['user_id','orders']\n",
    "\n",
    "ordersByUsers.sort_values(by='orders',ascending=False).head(10)\n",
    "\n"
   ]
  },
  {
   "cell_type": "code",
   "execution_count": 29,
   "metadata": {},
   "outputs": [
    {
     "data": {
      "text/plain": [
       "<matplotlib.collections.PathCollection at 0x7fe8060919a0>"
      ]
     },
     "execution_count": 29,
     "metadata": {},
     "output_type": "execute_result"
    },
    {
     "data": {
      "image/png": "[encoded data removed]",
      "text/plain": [
       "<Figure size 1080x360 with 1 Axes>"
      ]
     },
     "metadata": {
      "needs_background": "light"
     },
     "output_type": "display_data"
    }
   ],
   "source": [
    "#Построим точечную диаграмму числа заказов на одного пользователя:\n",
    "plt.figure(figsize=(15,5))\n",
    "plt.grid()\n",
    "plt.title('График количества заказов по пользователям\\n  ')\n",
    "plt.xlabel('\\nКол-во пользователей')\n",
    "plt.ylabel('Кол-во заказов\\n')\n",
    "\n",
    "x_values = pd.Series(range(0,len(ordersByUsers)))\n",
    "\n",
    "plt.scatter(x_values, ordersByUsers['orders']) "
   ]
  },
  {
   "cell_type": "markdown",
   "metadata": {},
   "source": [
    "#### Вывод: \n",
    "Судя по графику заказов по пользователям, больше всех пользователи заказывали по 1му заказу, но достаточно большой процент от 2 до 5 заказов.\n",
    "Даже по подсчету на одного пользователя , когда вывели первых десять пользователей, прояснилось, что большое кол-во пользователей совершает 5 заказов."
   ]
  },
  {
   "cell_type": "markdown",
   "metadata": {},
   "source": [
    "### Посчитаем 95-й и 99-й перцентили количества заказов на пользователя. Выберем границу для определения аномальных пользователей."
   ]
  },
  {
   "cell_type": "code",
   "execution_count": 30,
   "metadata": {},
   "outputs": [
    {
     "name": "stdout",
     "output_type": "stream",
     "text": [
      "[2. 4.]\n"
     ]
    }
   ],
   "source": [
    "#Посчитаем выборочные перцентили количества заказов на одного пользователя (95й и 99й):\n",
    "print(np.percentile(ordersByUsers['orders'], [95, 99])) "
   ]
  },
  {
   "cell_type": "markdown",
   "metadata": {},
   "source": [
    "#### Вывод: \n",
    "На перцентиле 95м - это до 5% совершают два заказа, и на 99м перцентиле - 1% совершают 4 заказа. Граница аномальных пользователей: все, что более 4х заказов."
   ]
  },
  {
   "cell_type": "markdown",
   "metadata": {},
   "source": [
    "### Построим точечный график стоимостей заказов."
   ]
  },
  {
   "cell_type": "code",
   "execution_count": 31,
   "metadata": {},
   "outputs": [
    {
     "data": {
      "text/plain": [
       "<matplotlib.collections.PathCollection at 0x7fe806091730>"
      ]
     },
     "execution_count": 31,
     "metadata": {},
     "output_type": "execute_result"
    },
    {
     "data": {
      "image/png": "[encoded data removed]",
      "text/plain": [
       "<Figure size 1080x360 with 1 Axes>"
      ]
     },
     "metadata": {
      "needs_background": "light"
     },
     "output_type": "display_data"
    }
   ],
   "source": [
    "#Построим точечную диаграмму стоимости заказов на одного пользователя:\n",
    "plt.figure(figsize=(15,5))\n",
    "plt.grid()\n",
    "\n",
    "plt.title('График стоимостей заказов\\n ')\n",
    "plt.xlabel('\\nКол-во пользователей')\n",
    "plt.ylabel('Стоимость заказа\\n')\n",
    "\n",
    "x_values = pd.Series(range(0,len(orders['revenue'])))\n",
    "\n",
    "plt.scatter(x_values, orders['revenue']) "
   ]
  },
  {
   "cell_type": "markdown",
   "metadata": {},
   "source": [
    "#### Вывод:\n",
    "По графику видно всего два выброса, в размере 120k и 20k заказов."
   ]
  },
  {
   "cell_type": "code",
   "execution_count": 32,
   "metadata": {},
   "outputs": [
    {
     "data": {
      "text/plain": [
       "744       86620\n",
       "1136      92550\n",
       "858       93940\n",
       "1196     202740\n",
       "425     1294500\n",
       "Name: revenue, dtype: int64"
      ]
     },
     "execution_count": 32,
     "metadata": {},
     "output_type": "execute_result"
    }
   ],
   "source": [
    "#Посмотрим точные суммы аномальных заказов.\n",
    "orders['revenue'].sort_values().tail()"
   ]
  },
  {
   "cell_type": "markdown",
   "metadata": {},
   "source": [
    "Два аномальных заказа: 1294500 и 202740."
   ]
  },
  {
   "cell_type": "code",
   "execution_count": 33,
   "metadata": {},
   "outputs": [
    {
     "data": {
      "text/plain": [
       "<matplotlib.collections.PathCollection at 0x7fe811b36190>"
      ]
     },
     "execution_count": 33,
     "metadata": {},
     "output_type": "execute_result"
    },
    {
     "data": {
      "image/png": "[encoded data removed]",
      "text/plain": [
       "<Figure size 1080x360 with 1 Axes>"
      ]
     },
     "metadata": {
      "needs_background": "light"
     },
     "output_type": "display_data"
    }
   ],
   "source": [
    "#Построим график на срезе без аномальных заказов:\n",
    "normal_orders = orders.query('revenue <= 200000')['revenue']\n",
    "xn_values = pd.Series(range(0,len(normal_orders)))\n",
    "plt.figure(figsize=(15,5))\n",
    "plt.grid()\n",
    "plt.title('График стоимостей заказов')\n",
    "plt.xlabel('\\nКол-во пользователей')\n",
    "plt.ylabel('Стоимость заказа\\n')\n",
    "plt.scatter(xn_values, normal_orders)"
   ]
  },
  {
   "cell_type": "markdown",
   "metadata": {},
   "source": [
    "#### Вывод:\n",
    "Теперь стало понятно, что большая часть заказов сформирована в диапазоне от 1 до 20 000."
   ]
  },
  {
   "cell_type": "markdown",
   "metadata": {},
   "source": [
    "### Посчитаем 95-й и 99-й перцентили стоимости заказов. Выберем границу для определения аномальных заказов."
   ]
  },
  {
   "cell_type": "code",
   "execution_count": 44,
   "metadata": {},
   "outputs": [
    {
     "name": "stdout",
     "output_type": "stream",
     "text": [
      "[28000.  58233.2]\n"
     ]
    }
   ],
   "source": [
    "#Определим 95й и 99й перцентили среднего чека в выборке:\n",
    "print(np.percentile(orders['revenue'], [95, 99])) "
   ]
  },
  {
   "cell_type": "markdown",
   "metadata": {},
   "source": [
    "#### Вывод:\n",
    "на 95м перцентиле - это до 95% - заказы на сумму до 28000, остальные 4% - заказы от 28000 до 58000, а 1% заказов - 99 перцентиль - заказы на сумму 58233.2 тыс. Граница аномальных заказов, все , что свыше 58233.2."
   ]
  },
  {
   "cell_type": "markdown",
   "metadata": {},
   "source": [
    "### Посчитаем статистическую значимость различий в среднем количестве заказов на посетителя между группами по «сырым» данным."
   ]
  },
  {
   "cell_type": "markdown",
   "metadata": {},
   "source": [
    "#### Начнём с подготовки данных. Изучим код и устройство таблиц visitors и orders.Cоберем общую таблицу.\n"
   ]
  },
  {
   "cell_type": "markdown",
   "metadata": {},
   "source": [
    "##### Сформулируем гипотезы:\n",
    "H0 - Нулевая: различий в среднем количестве заказов между группами нет;\n",
    "H1 - Альтернативная: различия в среднем между группами есть.\n",
    "\n",
    "Мы выбрали уровень значимости, равный 0.05.\n",
    "alpha = 0.05\n",
    "\n",
    "Для тестирования воспользуемся критерием Манна-Уитни."
   ]
  },
  {
   "cell_type": "code",
   "execution_count": 45,
   "metadata": {},
   "outputs": [
    {
     "data": {
      "text/html": [
       "<div>\n",
       "<style scoped>\n",
       "    .dataframe tbody tr th:only-of-type {\n",
       "        vertical-align: middle;\n",
       "    }\n",
       "\n",
       "    .dataframe tbody tr th {\n",
       "        vertical-align: top;\n",
       "    }\n",
       "\n",
       "    .dataframe thead th {\n",
       "        text-align: right;\n",
       "    }\n",
       "</style>\n",
       "<table border=\"1\" class=\"dataframe\">\n",
       "  <thead>\n",
       "    <tr style=\"text-align: right;\">\n",
       "      <th></th>\n",
       "      <th>date</th>\n",
       "      <th>visitorsCummulativeB</th>\n",
       "    </tr>\n",
       "  </thead>\n",
       "  <tbody>\n",
       "    <tr>\n",
       "      <th>31</th>\n",
       "      <td>2019-08-01</td>\n",
       "      <td>713</td>\n",
       "    </tr>\n",
       "    <tr>\n",
       "      <th>32</th>\n",
       "      <td>2019-08-02</td>\n",
       "      <td>1294</td>\n",
       "    </tr>\n",
       "    <tr>\n",
       "      <th>33</th>\n",
       "      <td>2019-08-03</td>\n",
       "      <td>1803</td>\n",
       "    </tr>\n",
       "    <tr>\n",
       "      <th>34</th>\n",
       "      <td>2019-08-04</td>\n",
       "      <td>2573</td>\n",
       "    </tr>\n",
       "    <tr>\n",
       "      <th>35</th>\n",
       "      <td>2019-08-05</td>\n",
       "      <td>3280</td>\n",
       "    </tr>\n",
       "  </tbody>\n",
       "</table>\n",
       "</div>"
      ],
      "text/plain": [
       "          date  visitorsCummulativeB\n",
       "31  2019-08-01                   713\n",
       "32  2019-08-02                  1294\n",
       "33  2019-08-03                  1803\n",
       "34  2019-08-04                  2573\n",
       "35  2019-08-05                  3280"
      ]
     },
     "metadata": {},
     "output_type": "display_data"
    }
   ],
   "source": [
    "#Посчитаем статистическую значимость различий в среднем числе заказов на пользователя\n",
    "#и среднем чеке между группами по «сырым» данным — без удаления аномальных пользователей.\n",
    "visitorsADaily = visitors[visitors['group'] == 'A'][['date', 'visitors']]\n",
    "visitorsADaily.columns = ['date', 'visitorsPerDateA']\n",
    "\n",
    "visitorsACummulative = visitorsADaily.apply(\n",
    "    lambda x: visitorsADaily[visitorsADaily['date'] <= x['date']].agg(\n",
    "        {'date': 'max', 'visitorsPerDateA': 'sum'}\n",
    "    ),\n",
    "    axis=1,\n",
    ")\n",
    "visitorsACummulative.columns = ['date', 'visitorsCummulativeA']\n",
    "\n",
    "visitorsBDaily = visitors[visitors['group'] == 'B'][['date', 'visitors']]\n",
    "visitorsBDaily.columns = ['date', 'visitorsPerDateB']\n",
    "\n",
    "visitorsBCummulative = visitorsBDaily.apply(\n",
    "    lambda x: visitorsBDaily[visitorsBDaily['date'] <= x['date']].agg(\n",
    "        {'date': 'max', 'visitorsPerDateB': 'sum'}\n",
    "    ),\n",
    "    axis=1,\n",
    ")\n",
    "visitorsBCummulative.columns = ['date', 'visitorsCummulativeB']\n",
    "display(visitorsBCummulative.head(5))\n"
   ]
  },
  {
   "cell_type": "code",
   "execution_count": 46,
   "metadata": {},
   "outputs": [
    {
     "data": {
      "text/html": [
       "<div>\n",
       "<style scoped>\n",
       "    .dataframe tbody tr th:only-of-type {\n",
       "        vertical-align: middle;\n",
       "    }\n",
       "\n",
       "    .dataframe tbody tr th {\n",
       "        vertical-align: top;\n",
       "    }\n",
       "\n",
       "    .dataframe thead th {\n",
       "        text-align: right;\n",
       "    }\n",
       "</style>\n",
       "<table border=\"1\" class=\"dataframe\">\n",
       "  <thead>\n",
       "    <tr style=\"text-align: right;\">\n",
       "      <th></th>\n",
       "      <th>date</th>\n",
       "      <th>ordersCummulativeB</th>\n",
       "      <th>revenueCummulativeB</th>\n",
       "    </tr>\n",
       "  </thead>\n",
       "  <tbody>\n",
       "    <tr>\n",
       "      <th>0</th>\n",
       "      <td>2019-08-01</td>\n",
       "      <td>21</td>\n",
       "      <td>101217</td>\n",
       "    </tr>\n",
       "    <tr>\n",
       "      <th>1</th>\n",
       "      <td>2019-08-02</td>\n",
       "      <td>45</td>\n",
       "      <td>266748</td>\n",
       "    </tr>\n",
       "    <tr>\n",
       "      <th>2</th>\n",
       "      <td>2019-08-03</td>\n",
       "      <td>61</td>\n",
       "      <td>380996</td>\n",
       "    </tr>\n",
       "    <tr>\n",
       "      <th>3</th>\n",
       "      <td>2019-08-04</td>\n",
       "      <td>78</td>\n",
       "      <td>489567</td>\n",
       "    </tr>\n",
       "    <tr>\n",
       "      <th>4</th>\n",
       "      <td>2019-08-05</td>\n",
       "      <td>101</td>\n",
       "      <td>581995</td>\n",
       "    </tr>\n",
       "  </tbody>\n",
       "</table>\n",
       "</div>"
      ],
      "text/plain": [
       "         date  ordersCummulativeB  revenueCummulativeB\n",
       "0  2019-08-01                  21               101217\n",
       "1  2019-08-02                  45               266748\n",
       "2  2019-08-03                  61               380996\n",
       "3  2019-08-04                  78               489567\n",
       "4  2019-08-05                 101               581995"
      ]
     },
     "metadata": {},
     "output_type": "display_data"
    }
   ],
   "source": [
    "ordersADaily = (\n",
    "    orders[orders['group'] == 'A'][['date', 'transactionId', 'visitorId', 'revenue']]\n",
    "    .groupby('date', as_index=False)\n",
    "    .agg({'transactionId': pd.Series.nunique, 'revenue': 'sum'})\n",
    ")\n",
    "ordersADaily.columns = ['date', 'ordersPerDateA', 'revenuePerDateA']\n",
    "\n",
    "ordersACummulative = ordersADaily.apply(\n",
    "    lambda x: ordersADaily[ordersADaily['date'] <= x['date']].agg(\n",
    "        {'date': 'max', 'ordersPerDateA': 'sum', 'revenuePerDateA': 'sum'}\n",
    "    ),\n",
    "    axis=1,\n",
    ").sort_values(by=['date'])\n",
    "ordersACummulative.columns = [\n",
    "    'date',\n",
    "    'ordersCummulativeA',\n",
    "    'revenueCummulativeA',\n",
    "]\n",
    "\n",
    "ordersBDaily = (\n",
    "    orders[orders['group'] == 'B'][['date', 'transactionId', 'visitorId', 'revenue']]\n",
    "    .groupby('date', as_index=False)\n",
    "    .agg({'transactionId': pd.Series.nunique, 'revenue': 'sum'})\n",
    ")\n",
    "ordersBDaily.columns = ['date', 'ordersPerDateB', 'revenuePerDateB']\n",
    "\n",
    "ordersBCummulative = ordersBDaily.apply(\n",
    "    lambda x: ordersBDaily[ordersBDaily['date'] <= x['date']].agg(\n",
    "        {'date': 'max', 'ordersPerDateB': 'sum', 'revenuePerDateB': 'sum'}\n",
    "    ),\n",
    "    axis=1,\n",
    ").sort_values(by=['date'])\n",
    "ordersBCummulative.columns = [\n",
    "    'date',\n",
    "    'ordersCummulativeB',\n",
    "    'revenueCummulativeB',\n",
    "]\n",
    "display(ordersBCummulative.head(5))"
   ]
  },
  {
   "cell_type": "code",
   "execution_count": 47,
   "metadata": {},
   "outputs": [
    {
     "name": "stdout",
     "output_type": "stream",
     "text": [
      "         date  ordersPerDateA  revenuePerDateA  ordersPerDateB  \\\n",
      "0  2019-08-01              24           148579              21   \n",
      "1  2019-08-02              20            93822              24   \n",
      "2  2019-08-03              24           112473              16   \n",
      "3  2019-08-04              16            70825              17   \n",
      "4  2019-08-05              25           124218              23   \n",
      "\n",
      "   revenuePerDateB  ordersCummulativeA  revenueCummulativeA  \\\n",
      "0           101217                  24               148579   \n",
      "1           165531                  44               242401   \n",
      "2           114248                  68               354874   \n",
      "3           108571                  84               425699   \n",
      "4            92428                 109               549917   \n",
      "\n",
      "   ordersCummulativeB  revenueCummulativeB  visitorsPerDateA  \\\n",
      "0                  21               101217               719   \n",
      "1                  45               266748               619   \n",
      "2                  61               380996               507   \n",
      "3                  78               489567               717   \n",
      "4                 101               581995               756   \n",
      "\n",
      "   visitorsPerDateB  visitorsCummulativeA  visitorsCummulativeB  \n",
      "0               713                   719                   713  \n",
      "1               581                  1338                  1294  \n",
      "2               509                  1845                  1803  \n",
      "3               770                  2562                  2573  \n",
      "4               707                  3318                  3280  \n"
     ]
    }
   ],
   "source": [
    "data = (\n",
    "    ordersADaily.merge(\n",
    "        ordersBDaily, left_on='date', right_on='date', how='left'\n",
    "    )\n",
    "    .merge(ordersACummulative, left_on='date', right_on='date', how='left')\n",
    "    .merge(ordersBCummulative, left_on='date', right_on='date', how='left')\n",
    "    .merge(visitorsADaily, left_on='date', right_on='date', how='left')\n",
    "    .merge(visitorsBDaily, left_on='date', right_on='date', how='left')\n",
    "    .merge(visitorsACummulative, left_on='date', right_on='date', how='left')\n",
    "    .merge(visitorsBCummulative, left_on='date', right_on='date', how='left')\n",
    ")\n",
    "\n",
    "print(data.head(5)) "
   ]
  },
  {
   "cell_type": "markdown",
   "metadata": {},
   "source": [
    "Теперь мы можем посчитать статистическую значимость различия в конверсии между группами.\n",
    "Создадим переменные ordersByUsersA и ordersByUsersB со столбцами ['userId', 'orders']. В них для пользователей, которые заказывали хотя бы 1 раз, укажем число совершённых заказов."
   ]
  },
  {
   "cell_type": "code",
   "execution_count": 48,
   "metadata": {},
   "outputs": [],
   "source": [
    "ordersByUsersA = (\n",
    "    orders[orders['group'] == 'A']\n",
    "    .groupby('visitorId', as_index=False)\n",
    "    .agg({'transactionId': pd.Series.nunique})\n",
    ")\n",
    "ordersByUsersA.columns = ['userId', 'orders']\n",
    "\n",
    "ordersByUsersB = (\n",
    "    orders[orders['group'] == 'B']\n",
    "    .groupby('visitorId', as_index=False)\n",
    "    .agg({'transactionId': pd.Series.nunique})\n",
    ")\n",
    "ordersByUsersB.columns = ['userId', 'orders'] "
   ]
  },
  {
   "cell_type": "markdown",
   "metadata": {},
   "source": [
    "  Объявим переменные sampleA и sampleB, в которых пользователям из разных групп будет соответствовать количество заказов. Тем, кто ничего не заказал, будут соответствовать нули. Это нужно, чтобы подготовить выборки к проверке критерием Манна-Уитни.\n",
    "  Переменная sampleA должна состоять из двух частей:\n",
    "- Список с количеством заказов для каждого из пользователей: ordersByUsersA['orders'].\n",
    "- Нули для пользователей, которые ничего не заказывали. \n",
    "\n",
    "Их количество равно разнице между суммой посетителей и количеством записей о заказах: data['visitorsPerDateA'].sum() - len(ordersByUsersA['orders']). \n",
    "Создадим объект pd.Series нужной длины:"
   ]
  },
  {
   "cell_type": "code",
   "execution_count": 49,
   "metadata": {},
   "outputs": [
    {
     "data": {
      "text/plain": [
       "0        0\n",
       "1        0\n",
       "2        0\n",
       "3        0\n",
       "4        0\n",
       "        ..\n",
       "18228    0\n",
       "18229    0\n",
       "18230    0\n",
       "18231    0\n",
       "18232    0\n",
       "Name: orders, Length: 18233, dtype: int64"
      ]
     },
     "execution_count": 49,
     "metadata": {},
     "output_type": "execute_result"
    }
   ],
   "source": [
    "pd.Series(0, index=np.arange(data['visitorsPerDateA'].sum() - len(ordersByUsersA['orders'])), name='orders')"
   ]
  },
  {
   "cell_type": "code",
   "execution_count": 50,
   "metadata": {},
   "outputs": [
    {
     "data": {
      "text/plain": [
       "[0      1\n",
       " 1      1\n",
       " 2      1\n",
       " 3      1\n",
       " 4      1\n",
       "       ..\n",
       " 498    1\n",
       " 499    7\n",
       " 500    1\n",
       " 501    1\n",
       " 502    1\n",
       " Name: orders, Length: 503, dtype: int64,\n",
       " 0        0\n",
       " 1        0\n",
       " 2        0\n",
       " 3        0\n",
       " 4        0\n",
       "         ..\n",
       " 18228    0\n",
       " 18229    0\n",
       " 18230    0\n",
       " 18231    0\n",
       " 18232    0\n",
       " Name: orders, Length: 18233, dtype: int64]"
      ]
     },
     "execution_count": 50,
     "metadata": {},
     "output_type": "execute_result"
    }
   ],
   "source": [
    "[ordersByUsersA['orders'],pd.Series(0, index=np.arange(data['visitorsPerDateA'].sum() - len(ordersByUsersA['orders'])), name='orders')] "
   ]
  },
  {
   "cell_type": "code",
   "execution_count": 51,
   "metadata": {},
   "outputs": [
    {
     "name": "stdout",
     "output_type": "stream",
     "text": [
      "0.01679\n",
      "0.138\n"
     ]
    }
   ],
   "source": [
    "sampleA = pd.concat(\n",
    "    [\n",
    "        ordersByUsersA['orders'],\n",
    "        pd.Series(\n",
    "            0,\n",
    "            index=np.arange(\n",
    "                data['visitorsPerDateA'].sum() - len(ordersByUsersA['orders'])\n",
    "            ),\n",
    "            name='orders',\n",
    "        ),\n",
    "    ],\n",
    "    axis=0,\n",
    ")\n",
    "\n",
    "sampleB = pd.concat(\n",
    "    [\n",
    "        ordersByUsersB['orders'],\n",
    "        pd.Series(\n",
    "            0,\n",
    "            index=np.arange(\n",
    "                data['visitorsPerDateB'].sum() - len(ordersByUsersB['orders'])\n",
    "            ),\n",
    "            name='orders',\n",
    "        ),\n",
    "    ],\n",
    "    axis=0,\n",
    ")\n",
    "\n",
    "print(\"{0:.5f}\".format(stats.mannwhitneyu(sampleA, sampleB)[1]))\n",
    "\n",
    "print(\"{0:.3f}\".format(sampleB.mean() / sampleA.mean() - 1))"
   ]
  },
  {
   "cell_type": "markdown",
   "metadata": {},
   "source": [
    "#### Вывод: \n",
    "Первое число — p-value = 0.017 меньше 0.05. Значит, нулевую гипотезу о том, что статистически значимых различий в среднем числе заказов между группами нет, отвергаем. А относительный прирост группы В к А равен 13.8% — второе число в выводе."
   ]
  },
  {
   "cell_type": "markdown",
   "metadata": {},
   "source": [
    "### Посчитаем статистическую значимость различий в среднем чеке заказа между группами по «сырым» данным. "
   ]
  },
  {
   "cell_type": "markdown",
   "metadata": {},
   "source": [
    "#### Сформулируем гипотезы в среднем чеке заказа между группами по «сырым» данным:\n",
    "Ho - Нулевая: различий в среднем количестве заказов между группами нет\n",
    "\n",
    "H1 - Альтернативная: различия в среднем чеке заказа между группами есть.\n",
    "\n",
    "alpha = 0.05\n",
    "\n",
    "Метод, который будем применять для A/B-тестирования, называется st.mannwhitneyu() (от англ. «U-критерий Манна-Уитни»).\n",
    "Ключевая идея — проранжировать две выборки по порядку от меньшего к большему и сравнить ранги одних и тех же значений, попавших в обе выборки."
   ]
  },
  {
   "cell_type": "code",
   "execution_count": 52,
   "metadata": {},
   "outputs": [
    {
     "name": "stdout",
     "output_type": "stream",
     "text": [
      "0.729\n",
      "0.259\n"
     ]
    }
   ],
   "source": [
    "print('{0:.3f}'.format(stats.mannwhitneyu(orders[orders['group']=='A']['revenue'], orders[orders['group']=='B']['revenue'])[1]))\n",
    "print('{0:.3f}'.format(orders[orders['group']=='B']['revenue'].mean()/orders[orders['group']=='A']['revenue'].mean()-1)) "
   ]
  },
  {
   "cell_type": "markdown",
   "metadata": {},
   "source": [
    "#### Вывод:\n",
    "P-value значительно больше 0.05. Значит, причин отвергать нулевую гипотезу и считать, что в среднем чеке есть различия, нет. Впрочем, средний чек группы B выше среднего чека группы A на 26%."
   ]
  },
  {
   "cell_type": "markdown",
   "metadata": {},
   "source": [
    "### Посчитаем статистическую значимость различий в среднем количестве заказов на посетителя между группами по «отфильтрованным» данным."
   ]
  },
  {
   "cell_type": "markdown",
   "metadata": {},
   "source": [
    "#### Описание:\n",
    "\n",
    "Примем за аномальных пользователей тех, кто совершил от 4 заказов или совершил заказ дороже 58 233 рублей.\n",
    "\n",
    "Сделаем срезы пользователей с числом заказов больше 4 — usersWithManyOrders\n",
    "и пользователей, совершивших заказы дороже 58 233 — usersWithExpensiveOrders.\n",
    "Объединим их в таблице abnormalUsers. "
   ]
  },
  {
   "cell_type": "code",
   "execution_count": 53,
   "metadata": {},
   "outputs": [
    {
     "data": {
      "text/plain": [
       "1099     148427295\n",
       "949      887908475\n",
       "744      888512513\n",
       "1103    1164614297\n",
       "1136    1307669133\n",
       "dtype: int64"
      ]
     },
     "metadata": {},
     "output_type": "display_data"
    },
    {
     "data": {
      "text/plain": [
       "'Всего аномальных пользователей ='"
      ]
     },
     "metadata": {},
     "output_type": "display_data"
    },
    {
     "data": {
      "text/plain": [
       "15"
      ]
     },
     "metadata": {},
     "output_type": "display_data"
    }
   ],
   "source": [
    "usersWithManyOrders = pd.concat(\n",
    "    [\n",
    "        ordersByUsersA[ordersByUsersA['orders'] > 4]['userId'],\n",
    "        ordersByUsersB[ordersByUsersB['orders'] > 4]['userId'],\n",
    "    ],\n",
    "    axis=0,\n",
    ")\n",
    "usersWithExpensiveOrders = orders[orders['revenue'] > 58233]['visitorId']\n",
    "abnormalUsers = (\n",
    "    pd.concat([usersWithManyOrders, usersWithExpensiveOrders], axis=0)\n",
    "    .drop_duplicates()\n",
    "    .sort_values()\n",
    ")\n",
    "display(abnormalUsers.head(5))\n",
    "display(\"Всего аномальных пользователей =\" ,len(abnormalUsers)) "
   ]
  },
  {
   "cell_type": "markdown",
   "metadata": {},
   "source": [
    "Всего 15 аномальных пользователей. "
   ]
  },
  {
   "cell_type": "markdown",
   "metadata": {},
   "source": [
    "Узнаем, как их действия повлияли на результаты теста. Посчитаем статистическую значимость различий в среднем количестве заказов между группами теста по \"отфильтрованным\" данным."
   ]
  },
  {
   "cell_type": "markdown",
   "metadata": {},
   "source": [
    "#### Сформулируем гипотезы по отфильтрованным данным:\n",
    "Ho - Нулевая: различий в среднем количестве заказов между группами нет.\n",
    "\n",
    "H1 - Альтернативная: различия в среднем между группами есть.\n",
    "\n",
    "alpha = 0.05\n",
    "\n",
    "Метод, который будем применять для A/B-тестирования, называется st.mannwhitneyu() (от англ. «U-критерий Манна-Уитни»).\n",
    "Ключевая идея — проранжировать две выборки по порядку от меньшего к большему и сравнить ранги одних и тех же значений, попавших в обе выборки.\n",
    "\n",
    "Напомним, что:\n",
    "\n",
    "в sampleA сохранили выборку, где каждый элемент — число заказов определённого пользователя, в том числе ноль. Значит, число элементов sampleA — это количество пользователей, сумма всех элементов — количество заказов. Чтобы получить среднее число заказов на пользователя, поделим сумму заказов на число пользователей — находим среднее в выборке sampleA методом mean().\n",
    "\n",
    "Аналогично находим среднее группы B: SampleB.mean()"
   ]
  },
  {
   "cell_type": "code",
   "execution_count": 54,
   "metadata": {},
   "outputs": [
    {
     "name": "stdout",
     "output_type": "stream",
     "text": [
      "0.014\n",
      "0.153\n"
     ]
    }
   ],
   "source": [
    "sampleAFiltered = pd.concat(\n",
    "    [\n",
    "        ordersByUsersA[\n",
    "            np.logical_not(ordersByUsersA['userId'].isin(abnormalUsers))\n",
    "        ]['orders'],\n",
    "        pd.Series(\n",
    "            0,\n",
    "            index=np.arange(\n",
    "                data['visitorsPerDateA'].sum() - len(ordersByUsersA['orders'])\n",
    "            ),\n",
    "            name='orders',\n",
    "        ),\n",
    "    ],\n",
    "    axis=0,\n",
    ")\n",
    "\n",
    "sampleBFiltered = pd.concat(\n",
    "    [\n",
    "        ordersByUsersB[\n",
    "            np.logical_not(ordersByUsersB['userId'].isin(abnormalUsers))\n",
    "        ]['orders'],\n",
    "        pd.Series(\n",
    "            0,\n",
    "            index=np.arange(\n",
    "                data['visitorsPerDateB'].sum() - len(ordersByUsersB['orders'])\n",
    "            ),\n",
    "            name='orders',\n",
    "        ),\n",
    "    ],\n",
    "    axis=0,\n",
    ") \n",
    "\n",
    "print('{0:.3f}'.format(stats.mannwhitneyu(sampleAFiltered, sampleBFiltered)[1]))\n",
    "\n",
    "print('{0:.3f}'.format(sampleBFiltered.mean()/sampleAFiltered.mean()-1)) "
   ]
  },
  {
   "cell_type": "markdown",
   "metadata": {},
   "source": [
    "#### Вывод:\n",
    "Первое число — p-value = 0.014 меньше 0.05. (на 0.03 меньше показателя по сырым данным) \n",
    "Значит, нулевую гипотезу о том, что статистически значимых различий в среднем числе заказов между группами нет, отвергаем.\n",
    "А относительный прирост группы В к А равен 15.3% — второе число в выводе. Это значит , что группа B реально лидирует в заказах."
   ]
  },
  {
   "cell_type": "markdown",
   "metadata": {},
   "source": [
    "### Посчитаем статистическую значимость различий в среднем чеке заказа между группами по «очищенным» данным."
   ]
  },
  {
   "cell_type": "markdown",
   "metadata": {},
   "source": [
    "#### Сформулируем гипотезы «очищенным» данным:\n",
    "Ho - Нулевая: различий значимость различий в среднем чеке заказа между группами по «очищенным» данным.\n",
    "\n",
    "H1 - Альтернативная: различия в среднем чеке заказа по \"очищенным\" данным между группами есть.\n",
    "\n",
    "alpha = 0.05\n",
    "\n",
    "Метод, который будем применять для A/B-тестирования, называется st.mannwhitneyu() (от англ. «U-критерий Манна-Уитни»).\n",
    "Ключевая идея — проранжировать две выборки по порядку от меньшего к большему и сравнить ранги одних и тех же значений, попавших в обе выборки."
   ]
  },
  {
   "cell_type": "code",
   "execution_count": 55,
   "metadata": {},
   "outputs": [
    {
     "name": "stdout",
     "output_type": "stream",
     "text": [
      "0.851\n",
      "-0.006\n"
     ]
    }
   ],
   "source": [
    "print(\n",
    "    '{0:.3f}'.format(\n",
    "        stats.mannwhitneyu(\n",
    "            orders[\n",
    "                np.logical_and(\n",
    "                    orders['group'] == 'A',\n",
    "                    np.logical_not(orders['visitorId'].isin(abnormalUsers)),\n",
    "                )\n",
    "            ]['revenue'],\n",
    "            orders[\n",
    "                np.logical_and(\n",
    "                    orders['group'] == 'B',\n",
    "                    np.logical_not(orders['visitorId'].isin(abnormalUsers)),\n",
    "                )\n",
    "            ]['revenue'],\n",
    "        )[1]\n",
    "    )\n",
    ")\n",
    "\n",
    "print(\n",
    "    \"{0:.3f}\".format(\n",
    "        orders[\n",
    "            np.logical_and(\n",
    "                orders['group'] == 'B',\n",
    "                np.logical_not(orders['visitorId'].isin(abnormalUsers)),\n",
    "            )\n",
    "        ]['revenue'].mean()\n",
    "        / orders[\n",
    "            np.logical_and(\n",
    "                orders['group'] == 'A',\n",
    "                np.logical_not(orders['visitorId'].isin(abnormalUsers)),\n",
    "            )\n",
    "        ]['revenue'].mean()\n",
    "        - 1\n",
    "    )\n",
    ") "
   ]
  },
  {
   "cell_type": "markdown",
   "metadata": {},
   "source": [
    "#### Вывод:\n",
    "P-value = 0.851, значительно больше 0.05. Поэтому можем считать, что в среднем чеке нет различий (как и с \"сырыми\" данными). А вот средний чек группы B оказался незначительно (на 0.6%) ниже среднего чека группы A, в то время как по \"сырым\" данным, он был больше почти на ~26%. Заказы с большими суммами значительно повлияли на группу B."
   ]
  },
  {
   "cell_type": "markdown",
   "metadata": {},
   "source": [
    "## Какие выводы по тесту можем сделать:"
   ]
  },
  {
   "cell_type": "markdown",
   "metadata": {},
   "source": [
    "### Имеющиеся факты:"
   ]
  },
  {
   "cell_type": "markdown",
   "metadata": {},
   "source": [
    "- Есть статистически значимое различие по среднему количеству заказов между группами как по сырым данным, так и после фильтрации аномалий;\n",
    "\n",
    "- Нет статистически значимого различия по среднему количеству заказов между группами ни по «сырым», ни по данным после фильтрации аномалий;\n",
    "\n",
    "- График различия среднего количества заказов между группами сообщает, что результаты группы A хуже группы B и нет значительной тенденции к улучшению;\n"
   ]
  },
  {
   "cell_type": "markdown",
   "metadata": {},
   "source": [
    "### Вывод: \n",
    "Исходя из обнаруженных фактов, тест следует остановить и признать его успешным в победе группы \"B\". Продолжать смысла нет, потому как вероятность, что при имеющихся данных сегмент A на самом деле лучше сегмента B — практически нулевая. В дальнейшем, можно передать данные в отдел маркетинга над доработкой показателей количества заказов."
   ]
  }
 ],
 "metadata": {
  "ExecuteTimeLog": [
   {
    "duration": 1516,
    "start_time": "2023-03-19T19:56:56.179Z"
   },
   {
    "duration": 130,
    "start_time": "2023-03-19T20:03:05.642Z"
   },
   {
    "duration": 421,
    "start_time": "2023-03-19T20:06:32.900Z"
   },
   {
    "duration": 11,
    "start_time": "2023-03-19T20:07:13.039Z"
   },
   {
    "duration": 22,
    "start_time": "2023-03-19T20:07:27.879Z"
   },
   {
    "duration": 10,
    "start_time": "2023-03-19T20:07:48.646Z"
   },
   {
    "duration": 3,
    "start_time": "2023-03-19T20:11:22.566Z"
   },
   {
    "duration": 18,
    "start_time": "2023-03-19T20:11:36.505Z"
   },
   {
    "duration": 9,
    "start_time": "2023-03-19T20:14:11.143Z"
   },
   {
    "duration": 6,
    "start_time": "2023-03-19T20:14:42.274Z"
   },
   {
    "duration": 20,
    "start_time": "2023-03-19T20:18:47.788Z"
   },
   {
    "duration": 314,
    "start_time": "2023-03-19T20:18:57.953Z"
   },
   {
    "duration": 3,
    "start_time": "2023-03-19T20:20:01.684Z"
   },
   {
    "duration": 31,
    "start_time": "2023-03-19T20:21:54.177Z"
   },
   {
    "duration": 14,
    "start_time": "2023-03-19T20:22:43.158Z"
   },
   {
    "duration": 23,
    "start_time": "2023-03-19T20:33:31.087Z"
   },
   {
    "duration": 18,
    "start_time": "2023-03-19T20:34:11.216Z"
   },
   {
    "duration": 22,
    "start_time": "2023-03-19T20:45:24.190Z"
   },
   {
    "duration": 78,
    "start_time": "2023-03-20T08:25:09.309Z"
   },
   {
    "duration": 1505,
    "start_time": "2023-03-20T08:25:21.363Z"
   },
   {
    "duration": 248,
    "start_time": "2023-03-20T08:25:25.955Z"
   },
   {
    "duration": 16,
    "start_time": "2023-03-20T08:25:29.147Z"
   },
   {
    "duration": 15,
    "start_time": "2023-03-20T08:25:34.798Z"
   },
   {
    "duration": 12,
    "start_time": "2023-03-20T08:25:38.002Z"
   },
   {
    "duration": 3,
    "start_time": "2023-03-20T08:25:42.706Z"
   },
   {
    "duration": 8,
    "start_time": "2023-03-20T08:25:47.691Z"
   },
   {
    "duration": 6,
    "start_time": "2023-03-20T08:25:51.725Z"
   },
   {
    "duration": 16,
    "start_time": "2023-03-20T08:25:55.198Z"
   },
   {
    "duration": 12,
    "start_time": "2023-03-20T08:25:59.263Z"
   },
   {
    "duration": 13,
    "start_time": "2023-03-20T08:26:04.458Z"
   },
   {
    "duration": 13,
    "start_time": "2023-03-20T08:26:08.891Z"
   },
   {
    "duration": 14,
    "start_time": "2023-03-20T08:26:13.774Z"
   },
   {
    "duration": 77,
    "start_time": "2023-03-20T08:31:07.052Z"
   },
   {
    "duration": 74,
    "start_time": "2023-03-20T08:31:38.068Z"
   },
   {
    "duration": 14,
    "start_time": "2023-03-20T08:32:32.612Z"
   },
   {
    "duration": 12,
    "start_time": "2023-03-20T09:15:12.640Z"
   },
   {
    "duration": 8,
    "start_time": "2023-03-20T09:17:02.071Z"
   },
   {
    "duration": 8,
    "start_time": "2023-03-20T09:17:24.048Z"
   },
   {
    "duration": 10,
    "start_time": "2023-03-20T09:19:23.368Z"
   },
   {
    "duration": 1602,
    "start_time": "2023-03-20T15:44:15.311Z"
   },
   {
    "duration": 283,
    "start_time": "2023-03-20T15:44:20.011Z"
   },
   {
    "duration": 15,
    "start_time": "2023-03-20T15:44:23.799Z"
   },
   {
    "duration": 18,
    "start_time": "2023-03-20T15:44:27.077Z"
   },
   {
    "duration": 14,
    "start_time": "2023-03-20T15:44:29.782Z"
   },
   {
    "duration": 4,
    "start_time": "2023-03-20T15:44:32.992Z"
   },
   {
    "duration": 9,
    "start_time": "2023-03-20T15:44:35.578Z"
   },
   {
    "duration": 7,
    "start_time": "2023-03-20T15:44:38.175Z"
   },
   {
    "duration": 30,
    "start_time": "2023-03-20T15:44:40.831Z"
   },
   {
    "duration": 13,
    "start_time": "2023-03-20T15:44:44.378Z"
   },
   {
    "duration": 21,
    "start_time": "2023-03-20T15:44:49.715Z"
   },
   {
    "duration": 31,
    "start_time": "2023-03-20T15:44:53.131Z"
   },
   {
    "duration": 20,
    "start_time": "2023-03-20T15:44:56.188Z"
   },
   {
    "duration": 20,
    "start_time": "2023-03-20T15:45:41.332Z"
   },
   {
    "duration": 13,
    "start_time": "2023-03-20T15:45:44.292Z"
   },
   {
    "duration": 11,
    "start_time": "2023-03-20T18:37:49.236Z"
   },
   {
    "duration": 13,
    "start_time": "2023-03-20T18:37:58.890Z"
   },
   {
    "duration": 7,
    "start_time": "2023-03-20T18:38:02.690Z"
   },
   {
    "duration": 7,
    "start_time": "2023-03-20T18:42:01.696Z"
   },
   {
    "duration": 124,
    "start_time": "2023-03-20T18:43:52.291Z"
   },
   {
    "duration": 254,
    "start_time": "2023-03-20T18:44:11.520Z"
   },
   {
    "duration": 305,
    "start_time": "2023-03-20T19:07:48.253Z"
   },
   {
    "duration": 340,
    "start_time": "2023-03-20T19:09:34.164Z"
   },
   {
    "duration": 312,
    "start_time": "2023-03-20T19:10:36.690Z"
   },
   {
    "duration": 272,
    "start_time": "2023-03-20T19:11:24.888Z"
   },
   {
    "duration": 266,
    "start_time": "2023-03-20T19:28:03.441Z"
   },
   {
    "duration": 260,
    "start_time": "2023-03-20T19:36:45.836Z"
   },
   {
    "duration": 224,
    "start_time": "2023-03-20T19:38:40.304Z"
   },
   {
    "duration": 445,
    "start_time": "2023-03-20T19:55:17.126Z"
   },
   {
    "duration": 291,
    "start_time": "2023-03-20T19:56:31.380Z"
   },
   {
    "duration": 1440,
    "start_time": "2023-03-21T07:44:31.901Z"
   },
   {
    "duration": 223,
    "start_time": "2023-03-21T07:44:36.141Z"
   },
   {
    "duration": 13,
    "start_time": "2023-03-21T07:44:39.299Z"
   },
   {
    "duration": 12,
    "start_time": "2023-03-21T07:44:43.111Z"
   },
   {
    "duration": 11,
    "start_time": "2023-03-21T07:44:48.040Z"
   },
   {
    "duration": 3,
    "start_time": "2023-03-21T07:44:53.680Z"
   },
   {
    "duration": 9,
    "start_time": "2023-03-21T07:44:56.700Z"
   },
   {
    "duration": 6,
    "start_time": "2023-03-21T07:45:00.021Z"
   },
   {
    "duration": 16,
    "start_time": "2023-03-21T07:45:02.981Z"
   },
   {
    "duration": 12,
    "start_time": "2023-03-21T07:45:06.010Z"
   },
   {
    "duration": 16,
    "start_time": "2023-03-21T07:45:10.329Z"
   },
   {
    "duration": 13,
    "start_time": "2023-03-21T07:45:13.992Z"
   },
   {
    "duration": 11,
    "start_time": "2023-03-21T07:45:18.323Z"
   },
   {
    "duration": 10,
    "start_time": "2023-03-21T07:45:22.640Z"
   },
   {
    "duration": 8,
    "start_time": "2023-03-21T07:45:25.241Z"
   },
   {
    "duration": 10,
    "start_time": "2023-03-21T07:45:28.911Z"
   },
   {
    "duration": 7,
    "start_time": "2023-03-21T07:45:31.720Z"
   },
   {
    "duration": 292,
    "start_time": "2023-03-21T07:45:35.762Z"
   },
   {
    "duration": 281,
    "start_time": "2023-03-21T07:45:50.971Z"
   },
   {
    "duration": 341,
    "start_time": "2023-03-21T07:45:56.743Z"
   },
   {
    "duration": 248,
    "start_time": "2023-03-21T07:46:00.781Z"
   },
   {
    "duration": 422,
    "start_time": "2023-03-21T07:46:05.661Z"
   },
   {
    "duration": 948,
    "start_time": "2023-03-21T08:17:06.699Z"
   },
   {
    "duration": 261,
    "start_time": "2023-03-21T08:23:08.223Z"
   },
   {
    "duration": 195,
    "start_time": "2023-03-21T08:23:40.904Z"
   },
   {
    "duration": 284,
    "start_time": "2023-03-21T08:25:20.143Z"
   },
   {
    "duration": 4,
    "start_time": "2023-03-21T08:25:29.753Z"
   },
   {
    "duration": 74,
    "start_time": "2023-03-21T08:25:33.884Z"
   },
   {
    "duration": 10,
    "start_time": "2023-03-21T08:25:36.534Z"
   },
   {
    "duration": 16,
    "start_time": "2023-03-21T08:25:38.783Z"
   },
   {
    "duration": 15,
    "start_time": "2023-03-21T08:25:42.293Z"
   },
   {
    "duration": 4,
    "start_time": "2023-03-21T08:25:45.233Z"
   },
   {
    "duration": 13,
    "start_time": "2023-03-21T08:25:47.443Z"
   },
   {
    "duration": 8,
    "start_time": "2023-03-21T08:25:50.572Z"
   },
   {
    "duration": 19,
    "start_time": "2023-03-21T08:25:53.284Z"
   },
   {
    "duration": 13,
    "start_time": "2023-03-21T08:25:56.303Z"
   },
   {
    "duration": 13,
    "start_time": "2023-03-21T08:26:00.280Z"
   },
   {
    "duration": 21,
    "start_time": "2023-03-21T08:26:05.050Z"
   },
   {
    "duration": 14,
    "start_time": "2023-03-21T08:26:08.033Z"
   },
   {
    "duration": 9,
    "start_time": "2023-03-21T08:26:11.844Z"
   },
   {
    "duration": 12,
    "start_time": "2023-03-21T08:26:14.287Z"
   },
   {
    "duration": 12,
    "start_time": "2023-03-21T08:26:29.973Z"
   },
   {
    "duration": 9,
    "start_time": "2023-03-21T08:26:33.291Z"
   },
   {
    "duration": 391,
    "start_time": "2023-03-21T08:26:35.818Z"
   },
   {
    "duration": 315,
    "start_time": "2023-03-21T08:26:39.538Z"
   },
   {
    "duration": 285,
    "start_time": "2023-03-21T08:26:43.605Z"
   },
   {
    "duration": 454,
    "start_time": "2023-03-21T08:26:47.924Z"
   },
   {
    "duration": 353,
    "start_time": "2023-03-21T08:26:52.324Z"
   },
   {
    "duration": 259,
    "start_time": "2023-03-21T08:27:22.944Z"
   },
   {
    "duration": 256,
    "start_time": "2023-03-21T08:29:06.886Z"
   },
   {
    "duration": 266,
    "start_time": "2023-03-21T08:29:08.996Z"
   },
   {
    "duration": 251,
    "start_time": "2023-03-21T08:29:11.354Z"
   },
   {
    "duration": 267,
    "start_time": "2023-03-21T08:29:17.703Z"
   },
   {
    "duration": 249,
    "start_time": "2023-03-21T08:29:57.244Z"
   },
   {
    "duration": 72,
    "start_time": "2023-03-21T08:32:06.294Z"
   },
   {
    "duration": 725,
    "start_time": "2023-03-21T08:32:22.465Z"
   },
   {
    "duration": 294,
    "start_time": "2023-03-21T08:33:57.200Z"
   },
   {
    "duration": 219,
    "start_time": "2023-03-21T08:34:14.501Z"
   },
   {
    "duration": 403,
    "start_time": "2023-03-21T08:36:16.831Z"
   },
   {
    "duration": 207,
    "start_time": "2023-03-21T08:36:27.885Z"
   },
   {
    "duration": 16,
    "start_time": "2023-03-21T08:37:00.372Z"
   },
   {
    "duration": 388,
    "start_time": "2023-03-21T08:38:13.748Z"
   },
   {
    "duration": 249,
    "start_time": "2023-03-21T08:38:41.162Z"
   },
   {
    "duration": 46,
    "start_time": "2023-03-21T08:44:23.822Z"
   },
   {
    "duration": 501,
    "start_time": "2023-03-21T09:11:03.983Z"
   },
   {
    "duration": 177,
    "start_time": "2023-03-21T09:24:20.949Z"
   },
   {
    "duration": 176,
    "start_time": "2023-03-21T09:24:52.600Z"
   },
   {
    "duration": 198,
    "start_time": "2023-03-21T09:25:39.020Z"
   },
   {
    "duration": 159,
    "start_time": "2023-03-21T09:27:16.265Z"
   },
   {
    "duration": 190,
    "start_time": "2023-03-21T09:28:12.341Z"
   },
   {
    "duration": 177,
    "start_time": "2023-03-21T09:29:51.412Z"
   },
   {
    "duration": 3,
    "start_time": "2023-03-21T09:37:16.564Z"
   },
   {
    "duration": 5,
    "start_time": "2023-03-21T09:37:50.018Z"
   },
   {
    "duration": 6,
    "start_time": "2023-03-21T09:39:58.045Z"
   },
   {
    "duration": 6,
    "start_time": "2023-03-21T09:40:22.081Z"
   },
   {
    "duration": 5,
    "start_time": "2023-03-21T09:40:33.107Z"
   },
   {
    "duration": 4114,
    "start_time": "2023-03-21T09:50:26.114Z"
   },
   {
    "duration": 155,
    "start_time": "2023-03-21T09:51:42.028Z"
   },
   {
    "duration": 160,
    "start_time": "2023-03-21T09:51:49.928Z"
   },
   {
    "duration": 159,
    "start_time": "2023-03-21T09:51:53.211Z"
   },
   {
    "duration": 197,
    "start_time": "2023-03-21T09:51:56.967Z"
   },
   {
    "duration": 5,
    "start_time": "2023-03-21T09:52:01.888Z"
   },
   {
    "duration": 2053,
    "start_time": "2023-03-21T09:52:05.088Z"
   },
   {
    "duration": 4,
    "start_time": "2023-03-21T09:52:32.292Z"
   },
   {
    "duration": 80,
    "start_time": "2023-03-21T09:52:33.967Z"
   },
   {
    "duration": 9,
    "start_time": "2023-03-21T09:52:36.068Z"
   },
   {
    "duration": 17,
    "start_time": "2023-03-21T09:52:38.416Z"
   },
   {
    "duration": 12,
    "start_time": "2023-03-21T09:52:40.668Z"
   },
   {
    "duration": 3,
    "start_time": "2023-03-21T09:52:44.028Z"
   },
   {
    "duration": 12,
    "start_time": "2023-03-21T09:52:45.848Z"
   },
   {
    "duration": 6,
    "start_time": "2023-03-21T09:52:48.027Z"
   },
   {
    "duration": 28,
    "start_time": "2023-03-21T09:52:52.388Z"
   },
   {
    "duration": 12,
    "start_time": "2023-03-21T09:53:07.467Z"
   },
   {
    "duration": 14,
    "start_time": "2023-03-21T09:53:11.928Z"
   },
   {
    "duration": 24,
    "start_time": "2023-03-21T09:53:14.988Z"
   },
   {
    "duration": 18,
    "start_time": "2023-03-21T09:53:18.695Z"
   },
   {
    "duration": 11,
    "start_time": "2023-03-21T09:53:22.438Z"
   },
   {
    "duration": 8,
    "start_time": "2023-03-21T09:53:24.616Z"
   },
   {
    "duration": 17,
    "start_time": "2023-03-21T09:53:27.587Z"
   },
   {
    "duration": 6,
    "start_time": "2023-03-21T09:53:30.940Z"
   },
   {
    "duration": 308,
    "start_time": "2023-03-21T09:53:33.137Z"
   },
   {
    "duration": 320,
    "start_time": "2023-03-21T09:53:37.297Z"
   },
   {
    "duration": 307,
    "start_time": "2023-03-21T09:53:40.772Z"
   },
   {
    "duration": 382,
    "start_time": "2023-03-21T09:53:44.392Z"
   },
   {
    "duration": 255,
    "start_time": "2023-03-21T09:53:48.696Z"
   },
   {
    "duration": 399,
    "start_time": "2023-03-21T09:53:53.921Z"
   },
   {
    "duration": 142,
    "start_time": "2023-03-21T09:53:57.510Z"
   },
   {
    "duration": 188,
    "start_time": "2023-03-21T09:54:08.820Z"
   },
   {
    "duration": 9,
    "start_time": "2023-03-21T09:54:14.500Z"
   },
   {
    "duration": 2798,
    "start_time": "2023-03-21T09:54:17.177Z"
   },
   {
    "duration": 183,
    "start_time": "2023-03-21T09:56:54.442Z"
   },
   {
    "duration": 205,
    "start_time": "2023-03-21T09:57:25.161Z"
   },
   {
    "duration": 151,
    "start_time": "2023-03-21T09:58:31.466Z"
   },
   {
    "duration": 217,
    "start_time": "2023-03-21T10:02:13.549Z"
   },
   {
    "duration": 209,
    "start_time": "2023-03-21T10:02:38.367Z"
   },
   {
    "duration": 172,
    "start_time": "2023-03-21T10:04:06.711Z"
   },
   {
    "duration": 7,
    "start_time": "2023-03-21T10:07:04.287Z"
   },
   {
    "duration": 191,
    "start_time": "2023-03-21T10:08:39.348Z"
   },
   {
    "duration": 69,
    "start_time": "2023-03-21T10:11:29.175Z"
   },
   {
    "duration": 191,
    "start_time": "2023-03-21T10:14:03.128Z"
   },
   {
    "duration": 178,
    "start_time": "2023-03-21T10:14:48.279Z"
   },
   {
    "duration": 12,
    "start_time": "2023-03-21T10:18:10.314Z"
   },
   {
    "duration": 419,
    "start_time": "2023-03-21T10:18:40.928Z"
   },
   {
    "duration": 103,
    "start_time": "2023-03-21T10:19:01.827Z"
   },
   {
    "duration": 17,
    "start_time": "2023-03-21T10:19:41.087Z"
   },
   {
    "duration": 187,
    "start_time": "2023-03-21T10:27:15.868Z"
   },
   {
    "duration": 197,
    "start_time": "2023-03-21T10:33:05.988Z"
   },
   {
    "duration": 4,
    "start_time": "2023-03-21T10:38:43.019Z"
   },
   {
    "duration": 236,
    "start_time": "2023-03-21T10:53:25.569Z"
   },
   {
    "duration": 285,
    "start_time": "2023-03-21T10:53:47.129Z"
   },
   {
    "duration": 190,
    "start_time": "2023-03-21T10:54:10.569Z"
   },
   {
    "duration": 114,
    "start_time": "2023-03-21T10:54:26.386Z"
   },
   {
    "duration": 94,
    "start_time": "2023-03-21T10:54:49.917Z"
   },
   {
    "duration": 19,
    "start_time": "2023-03-21T10:57:20.244Z"
   },
   {
    "duration": 23,
    "start_time": "2023-03-21T10:57:37.939Z"
   },
   {
    "duration": 26,
    "start_time": "2023-03-21T10:58:28.109Z"
   },
   {
    "duration": 19,
    "start_time": "2023-03-21T10:59:45.445Z"
   },
   {
    "duration": 112,
    "start_time": "2023-03-21T11:00:18.375Z"
   },
   {
    "duration": 37,
    "start_time": "2023-03-21T11:01:45.709Z"
   },
   {
    "duration": 30,
    "start_time": "2023-03-21T11:01:56.009Z"
   },
   {
    "duration": 31,
    "start_time": "2023-03-21T11:02:29.018Z"
   },
   {
    "duration": 16,
    "start_time": "2023-03-21T11:04:49.908Z"
   },
   {
    "duration": 180,
    "start_time": "2023-03-21T11:06:28.289Z"
   },
   {
    "duration": 8,
    "start_time": "2023-03-21T11:10:34.029Z"
   },
   {
    "duration": 8,
    "start_time": "2023-03-21T11:11:40.648Z"
   },
   {
    "duration": 6,
    "start_time": "2023-03-21T11:12:09.129Z"
   },
   {
    "duration": 14,
    "start_time": "2023-03-21T11:13:08.749Z"
   },
   {
    "duration": 4,
    "start_time": "2023-03-21T11:14:55.849Z"
   },
   {
    "duration": 46,
    "start_time": "2023-03-21T11:15:01.889Z"
   },
   {
    "duration": 49,
    "start_time": "2023-03-21T11:16:12.712Z"
   },
   {
    "duration": 11,
    "start_time": "2023-03-21T11:42:15.923Z"
   },
   {
    "duration": 836,
    "start_time": "2023-03-21T11:51:39.535Z"
   },
   {
    "duration": 9,
    "start_time": "2023-03-21T11:52:28.404Z"
   },
   {
    "duration": 11,
    "start_time": "2023-03-21T11:52:46.887Z"
   },
   {
    "duration": 13,
    "start_time": "2023-03-21T11:53:37.404Z"
   },
   {
    "duration": 27,
    "start_time": "2023-03-21T12:05:09.669Z"
   },
   {
    "duration": 69,
    "start_time": "2023-03-21T12:34:09.251Z"
   },
   {
    "duration": 1194,
    "start_time": "2023-03-21T12:36:06.575Z"
   },
   {
    "duration": 16,
    "start_time": "2023-03-21T12:36:58.508Z"
   },
   {
    "duration": 976,
    "start_time": "2023-03-21T17:09:07.394Z"
   },
   {
    "duration": 282,
    "start_time": "2023-03-21T17:09:08.372Z"
   },
   {
    "duration": 10,
    "start_time": "2023-03-21T17:09:08.655Z"
   },
   {
    "duration": 10,
    "start_time": "2023-03-21T17:09:08.666Z"
   },
   {
    "duration": 9,
    "start_time": "2023-03-21T17:09:08.678Z"
   },
   {
    "duration": 23,
    "start_time": "2023-03-21T17:09:08.689Z"
   },
   {
    "duration": 19,
    "start_time": "2023-03-21T17:09:08.713Z"
   },
   {
    "duration": 7,
    "start_time": "2023-03-21T17:09:08.734Z"
   },
   {
    "duration": 13,
    "start_time": "2023-03-21T17:09:08.742Z"
   },
   {
    "duration": 14,
    "start_time": "2023-03-21T17:09:08.756Z"
   },
   {
    "duration": 11,
    "start_time": "2023-03-21T17:09:08.772Z"
   },
   {
    "duration": 9,
    "start_time": "2023-03-21T17:09:08.785Z"
   },
   {
    "duration": 12,
    "start_time": "2023-03-21T17:09:08.795Z"
   },
   {
    "duration": 22,
    "start_time": "2023-03-21T17:09:08.809Z"
   },
   {
    "duration": 15,
    "start_time": "2023-03-21T17:09:08.833Z"
   },
   {
    "duration": 9,
    "start_time": "2023-03-21T17:09:08.850Z"
   },
   {
    "duration": 5,
    "start_time": "2023-03-21T17:09:08.860Z"
   },
   {
    "duration": 233,
    "start_time": "2023-03-21T17:09:08.866Z"
   },
   {
    "duration": 286,
    "start_time": "2023-03-21T17:09:09.101Z"
   },
   {
    "duration": 198,
    "start_time": "2023-03-21T17:09:09.389Z"
   },
   {
    "duration": 297,
    "start_time": "2023-03-21T17:09:09.588Z"
   },
   {
    "duration": 192,
    "start_time": "2023-03-21T17:09:09.886Z"
   },
   {
    "duration": 323,
    "start_time": "2023-03-21T17:09:10.079Z"
   },
   {
    "duration": 141,
    "start_time": "2023-03-21T17:09:10.404Z"
   },
   {
    "duration": 141,
    "start_time": "2023-03-21T17:09:10.547Z"
   },
   {
    "duration": 3,
    "start_time": "2023-03-21T17:09:10.690Z"
   },
   {
    "duration": 169,
    "start_time": "2023-03-21T17:09:10.695Z"
   },
   {
    "duration": 5,
    "start_time": "2023-03-21T17:09:10.865Z"
   },
   {
    "duration": 204,
    "start_time": "2023-03-21T17:09:10.871Z"
   },
   {
    "duration": 3,
    "start_time": "2023-03-21T17:09:11.076Z"
   },
   {
    "duration": 88,
    "start_time": "2023-03-21T17:09:11.081Z"
   },
   {
    "duration": 106,
    "start_time": "2023-03-21T17:09:11.170Z"
   },
   {
    "duration": 20,
    "start_time": "2023-03-21T17:09:11.277Z"
   },
   {
    "duration": 133,
    "start_time": "2023-03-21T17:09:11.298Z"
   },
   {
    "duration": 8,
    "start_time": "2023-03-21T17:09:11.432Z"
   },
   {
    "duration": 12,
    "start_time": "2023-03-21T17:09:11.441Z"
   },
   {
    "duration": 21,
    "start_time": "2023-03-21T17:09:11.455Z"
   },
   {
    "duration": 9,
    "start_time": "2023-03-21T17:09:11.478Z"
   },
   {
    "duration": 11,
    "start_time": "2023-03-21T17:09:11.488Z"
   },
   {
    "duration": 31,
    "start_time": "2023-03-21T17:09:11.522Z"
   },
   {
    "duration": 11,
    "start_time": "2023-03-21T17:09:11.555Z"
   },
   {
    "duration": 50,
    "start_time": "2023-03-22T08:34:12.103Z"
   },
   {
    "duration": 69,
    "start_time": "2023-03-23T09:37:35.440Z"
   },
   {
    "duration": 1522,
    "start_time": "2023-03-23T09:37:43.603Z"
   },
   {
    "duration": 221,
    "start_time": "2023-03-23T09:37:46.861Z"
   },
   {
    "duration": 17,
    "start_time": "2023-03-23T09:37:49.304Z"
   },
   {
    "duration": 19,
    "start_time": "2023-03-23T09:37:52.020Z"
   },
   {
    "duration": 16,
    "start_time": "2023-03-23T09:37:54.542Z"
   },
   {
    "duration": 3,
    "start_time": "2023-03-23T09:37:57.535Z"
   },
   {
    "duration": 8,
    "start_time": "2023-03-23T09:37:59.640Z"
   },
   {
    "duration": 6,
    "start_time": "2023-03-23T09:38:02.241Z"
   },
   {
    "duration": 26,
    "start_time": "2023-03-23T09:38:04.587Z"
   },
   {
    "duration": 16,
    "start_time": "2023-03-23T09:38:07.461Z"
   },
   {
    "duration": 33,
    "start_time": "2023-03-23T09:38:12.491Z"
   },
   {
    "duration": 14,
    "start_time": "2023-03-23T09:38:16.192Z"
   },
   {
    "duration": 15,
    "start_time": "2023-03-23T09:38:20.160Z"
   },
   {
    "duration": 12,
    "start_time": "2023-03-23T09:38:24.087Z"
   },
   {
    "duration": 8,
    "start_time": "2023-03-23T09:38:26.525Z"
   },
   {
    "duration": 12,
    "start_time": "2023-03-23T09:38:29.331Z"
   },
   {
    "duration": 1363,
    "start_time": "2023-03-23T09:38:32.530Z"
   },
   {
    "duration": 16,
    "start_time": "2023-03-23T09:39:03.735Z"
   },
   {
    "duration": 8,
    "start_time": "2023-03-23T09:40:59.700Z"
   },
   {
    "duration": 4,
    "start_time": "2023-03-23T09:41:17.495Z"
   },
   {
    "duration": 74,
    "start_time": "2023-03-23T09:43:50.961Z"
   },
   {
    "duration": 7,
    "start_time": "2023-03-23T09:43:58.991Z"
   },
   {
    "duration": 73,
    "start_time": "2023-03-23T09:44:20.341Z"
   },
   {
    "duration": 14,
    "start_time": "2023-03-23T09:44:41.928Z"
   },
   {
    "duration": 6,
    "start_time": "2023-03-23T09:50:33.428Z"
   },
   {
    "duration": 272,
    "start_time": "2023-03-23T09:50:36.145Z"
   },
   {
    "duration": 328,
    "start_time": "2023-03-23T09:50:39.726Z"
   },
   {
    "duration": 220,
    "start_time": "2023-03-23T09:50:50.061Z"
   },
   {
    "duration": 401,
    "start_time": "2023-03-23T09:50:56.961Z"
   },
   {
    "duration": 253,
    "start_time": "2023-03-23T09:53:05.180Z"
   },
   {
    "duration": 229,
    "start_time": "2023-03-23T09:53:25.942Z"
   },
   {
    "duration": 10,
    "start_time": "2023-03-23T10:37:57.430Z"
   },
   {
    "duration": 73,
    "start_time": "2023-03-24T10:50:45.635Z"
   },
   {
    "duration": 134,
    "start_time": "2023-03-24T10:54:04.321Z"
   },
   {
    "duration": 1540,
    "start_time": "2023-03-24T10:59:39.738Z"
   },
   {
    "duration": 274,
    "start_time": "2023-03-24T10:59:41.280Z"
   },
   {
    "duration": 13,
    "start_time": "2023-03-24T10:59:43.217Z"
   },
   {
    "duration": 19,
    "start_time": "2023-03-24T10:59:49.459Z"
   },
   {
    "duration": 18,
    "start_time": "2023-03-24T10:59:51.899Z"
   },
   {
    "duration": 3,
    "start_time": "2023-03-24T10:59:54.031Z"
   },
   {
    "duration": 9,
    "start_time": "2023-03-24T10:59:55.403Z"
   },
   {
    "duration": 5,
    "start_time": "2023-03-24T10:59:57.258Z"
   },
   {
    "duration": 15,
    "start_time": "2023-03-24T10:59:58.803Z"
   },
   {
    "duration": 11,
    "start_time": "2023-03-24T11:00:00.938Z"
   },
   {
    "duration": 15,
    "start_time": "2023-03-24T11:00:06.604Z"
   },
   {
    "duration": 13,
    "start_time": "2023-03-24T11:00:09.837Z"
   },
   {
    "duration": 11,
    "start_time": "2023-03-24T11:00:13.157Z"
   },
   {
    "duration": 9,
    "start_time": "2023-03-24T11:00:16.731Z"
   },
   {
    "duration": 10,
    "start_time": "2023-03-24T11:00:18.688Z"
   },
   {
    "duration": 10,
    "start_time": "2023-03-24T11:00:20.602Z"
   },
   {
    "duration": 22,
    "start_time": "2023-03-24T11:00:25.957Z"
   },
   {
    "duration": 6,
    "start_time": "2023-03-24T11:00:28.057Z"
   },
   {
    "duration": 7,
    "start_time": "2023-03-24T11:00:30.713Z"
   },
   {
    "duration": 356,
    "start_time": "2023-03-24T11:00:32.172Z"
   },
   {
    "duration": 492,
    "start_time": "2023-03-24T11:00:34.825Z"
   },
   {
    "duration": 330,
    "start_time": "2023-03-24T11:00:39.204Z"
   },
   {
    "duration": 383,
    "start_time": "2023-03-24T11:00:43.518Z"
   },
   {
    "duration": 280,
    "start_time": "2023-03-24T11:00:53.346Z"
   },
   {
    "duration": 388,
    "start_time": "2023-03-24T11:01:05.407Z"
   },
   {
    "duration": 147,
    "start_time": "2023-03-24T11:01:17.792Z"
   },
   {
    "duration": 197,
    "start_time": "2023-03-24T11:01:25.918Z"
   },
   {
    "duration": 9,
    "start_time": "2023-03-24T11:01:32.105Z"
   },
   {
    "duration": 212,
    "start_time": "2023-03-24T11:01:35.257Z"
   },
   {
    "duration": 8,
    "start_time": "2023-03-24T11:01:37.718Z"
   },
   {
    "duration": 281,
    "start_time": "2023-03-24T11:01:39.824Z"
   },
   {
    "duration": 5,
    "start_time": "2023-03-24T11:01:42.914Z"
   },
   {
    "duration": 106,
    "start_time": "2023-03-24T11:01:48.504Z"
   },
   {
    "duration": 127,
    "start_time": "2023-03-24T11:01:58.145Z"
   },
   {
    "duration": 10,
    "start_time": "2023-03-24T11:02:07.101Z"
   },
   {
    "duration": 9,
    "start_time": "2023-03-24T11:02:09.818Z"
   },
   {
    "duration": 11,
    "start_time": "2023-03-24T11:02:12.020Z"
   },
   {
    "duration": 159,
    "start_time": "2023-03-24T11:02:19.303Z"
   },
   {
    "duration": 10,
    "start_time": "2023-03-24T11:02:21.958Z"
   },
   {
    "duration": 10,
    "start_time": "2023-03-24T11:02:24.858Z"
   },
   {
    "duration": 10,
    "start_time": "2023-03-24T11:02:39.154Z"
   },
   {
    "duration": 11,
    "start_time": "2023-03-24T11:02:49.374Z"
   },
   {
    "duration": 94,
    "start_time": "2023-03-24T11:02:56.392Z"
   },
   {
    "duration": 165,
    "start_time": "2023-03-24T11:03:00.347Z"
   },
   {
    "duration": 28,
    "start_time": "2023-03-24T11:03:02.737Z"
   },
   {
    "duration": 173,
    "start_time": "2023-03-24T11:03:05.892Z"
   },
   {
    "duration": 7,
    "start_time": "2023-03-24T11:03:08.137Z"
   },
   {
    "duration": 7,
    "start_time": "2023-03-24T11:03:12.638Z"
   },
   {
    "duration": 27,
    "start_time": "2023-03-24T11:03:16.718Z"
   },
   {
    "duration": 11,
    "start_time": "2023-03-24T11:03:21.429Z"
   },
   {
    "duration": 23,
    "start_time": "2023-03-24T11:03:24.431Z"
   },
   {
    "duration": 44,
    "start_time": "2023-03-24T11:03:28.971Z"
   },
   {
    "duration": 15,
    "start_time": "2023-03-24T11:03:38.222Z"
   }
  ],
  "kernelspec": {
   "display_name": "Python 3 (ipykernel)",
   "language": "python",
   "name": "python3"
  },
  "language_info": {
   "codemirror_mode": {
    "name": "ipython",
    "version": 3
   },
   "file_extension": ".py",
   "mimetype": "text/x-python",
   "name": "python",
   "nbconvert_exporter": "python",
   "pygments_lexer": "ipython3",
   "version": "3.10.9"
  },
  "toc": {
   "base_numbering": 1,
   "nav_menu": {},
   "number_sections": true,
   "sideBar": true,
   "skip_h1_title": true,
   "title_cell": "Table of Contents",
   "title_sidebar": "Contents",
   "toc_cell": false,
   "toc_position": {
    "height": "calc(100% - 180px)",
    "left": "10px",
    "top": "150px",
    "width": "279.513px"
   },
   "toc_section_display": true,
   "toc_window_display": true
  }
 },
 "nbformat": 4,
 "nbformat_minor": 2
}
